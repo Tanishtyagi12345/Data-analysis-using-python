{
 "cells": [
  {
   "cell_type": "markdown",
   "id": "f3e9df3b-6afa-4b37-ab34-9c22591e28c6",
   "metadata": {},
   "source": [
    "# <span style = \"color:#f22a51\" > Bellabeat Case Study </span>"
   ]
  },
  {
   "cell_type": "markdown",
   "id": "df9dab72-2528-4b99-af06-1060abfcb4a2",
   "metadata": {},
   "source": [
    "<!-- ![bellabeat case study.webp](./Bellabeat-logo.webp)-->\n",
    "<center><img src=\"./Bellabeat-logo.webp\" width=\"500\"> </center> \n",
    "\n",
    "## **<span style=\"color:orange\"> INTRODUCTION </span>**\n",
    "Bellabeat is a high-tech manufacturer of health-focused products for women and devices it provide are Bellabeat app, Leaf, Time, Spring, etc.\n",
    "It was founded in 2013 by 'Urška Sršen' and 'Sando Mur'. The company is quite successful, with lots of potential to become a larger player\n",
    "in the global smart device industry. The founders are of the view that analyzing smart device fitness data could help unlock new growth\n",
    "opportunities for the company.\r\n",
    "In this case study, I will follow the six steps of the data analysis process: **ask**, **prepare**, **process**, **analyze**, **share**, and **act**, to break down how I analyzed the FitBit fitness Tracker Data in order to gain some insights that could be beneficial to Bellabeat.r\n",
    "\r\n",
    "\r\n"
   ]
  },
  {
   "cell_type": "markdown",
   "id": "c88f7133-ea57-4d1d-9717-f2f4940e31c1",
   "metadata": {},
   "source": [
    "### **<span style=\"color:orange\"> Ask : </span>**\n",
    "1. To analyze FitBit Fitness Tracker Data from thirty eligible FitBit users, in order to gain some insights that could unlock new growth opportunities for the company.\r",
    "2. \n",
    "To focus on one of Bellabeat’s products and analyze smart device data to gain insight into how customers are using their smart devices.\r\n",
    "For this case study, I will focus on the Bellabeat membership program. This is a subscription-based membership program that gives users 24/7 access to fully personalized guidance on nutrition, activity, sleep, health and beauty, and mindfulness based on their lifestyle and goals.\r\n"
   ]
  },
  {
   "cell_type": "markdown",
   "id": "caf7d08a-eeef-43ad-9f29-c2b59a6d3477",
   "metadata": {},
   "source": [
    "### **<span style=\"color:orange\"> Prepare : </span>**\n",
    " **Data Source:**\n",
    "   The data used is available on Kaggle including 30 users with their consent to use the data.There are 18 files but I have used only relevant files       like (daily_activity, horly_steps, hourly_calories, and sleepday).\n",
    " "
   ]
  },
  {
   "cell_type": "markdown",
   "id": "a7a099b6-8b1f-44fd-85a8-f033894ec3d5",
   "metadata": {},
   "source": [
    "### **<span style=\"color:orange\"> Process : </span>**\n",
    "\n",
    "#### **<span style=\"color:orange\"> IMPORTING LIBRARIES </span>**\n"
   ]
  },
  {
   "cell_type": "code",
   "execution_count": 2,
   "id": "30d24c49-ce98-4894-a489-b77016dcf5df",
   "metadata": {},
   "outputs": [],
   "source": [
    "import pandas as pd\n",
    "import numpy as np\n",
    "import matplotlib.pyplot as plt\n",
    "import seaborn as sns\n",
    "import os\n",
    "import glob"
   ]
  },
  {
   "cell_type": "markdown",
   "id": "c4108401-66a1-4c25-b674-e10ceb2271f2",
   "metadata": {},
   "source": [
    "#### **<span style=\"color:orange\"> DATA LOADING </span>**\n",
    "Load the data that you think relevant to case study and leave irrelevant data."
   ]
  },
  {
   "cell_type": "code",
   "execution_count": 3,
   "id": "d7fc8486-3aa9-43f7-bf8d-b91af2554d99",
   "metadata": {},
   "outputs": [],
   "source": [
    "daily_activity = pd.read_csv(\"E:/Case Study1/mturkfitbit_export_4.12.16-5.12.16/Fitabase Data 4.12.16-5.12.16/dailyActivity_merged.csv\")\n",
    "hourly_steps = pd.read_csv(\"E:/Case Study1/mturkfitbit_export_4.12.16-5.12.16/Fitabase Data 4.12.16-5.12.16/hourlySteps_merged.csv\")\n",
    "hourly_calories = pd.read_csv(\"E:/Case Study1/mturkfitbit_export_4.12.16-5.12.16/Fitabase Data 4.12.16-5.12.16/hourlyCalories_merged.csv\")\n",
    "sleepday = pd.read_csv(\"E:/Case Study1/mturkfitbit_export_4.12.16-5.12.16/Fitabase Data 4.12.16-5.12.16/sleepDay_merged.csv\")\n",
    "daily_calories = pd.read_csv(\"E:/Case Study1/mturkfitbit_export_4.12.16-5.12.16/Fitabase Data 4.12.16-5.12.16/dailyCalories_merged.csv\")\n",
    "daily_intensity = pd.read_csv(\"E:/Case Study1/mturkfitbit_export_4.12.16-5.12.16/Fitabase Data 4.12.16-5.12.16/dailyIntensities_merged.csv\")\n",
    "weight_log = pd.read_csv(\"E:/Case Study1/mturkfitbit_export_4.12.16-5.12.16/Fitabase Data 4.12.16-5.12.16/weightLogInfo_merged.csv\")\n",
    "daily_steps= pd.read_csv(\"E:/Case Study1/mturkfitbit_export_4.12.16-5.12.16/Fitabase Data 4.12.16-5.12.16/dailySteps_merged.csv\")\n",
    "heartrate_secs = pd.read_csv(\"E:/Case Study1/mturkfitbit_export_4.12.16-5.12.16/Fitabase Data 4.12.16-5.12.16/heartrate_seconds_merged.csv\")"
   ]
  },
  {
   "cell_type": "markdown",
   "id": "48b64ed6-b7b3-4f31-aa23-c8a4d728c361",
   "metadata": {},
   "source": [
    "#### <span style = \"color: orange\"> DATA EXPLORATION </span>\n",
    "Data exploration involves exploring the dataset, like sample of dataset, description, null values, data types casting, etc.\n",
    "\n",
    "We can have an overview of the dataset by pulling some rows mainly 5 rows **(head)** from the dataset."
   ]
  },
  {
   "cell_type": "code",
   "execution_count": 41,
   "id": "85b494a2-b2d4-4116-8a94-7fe43bc42b53",
   "metadata": {},
   "outputs": [
    {
     "data": {
      "text/html": [
       "<div>\n",
       "<style scoped>\n",
       "    .dataframe tbody tr th:only-of-type {\n",
       "        vertical-align: middle;\n",
       "    }\n",
       "\n",
       "    .dataframe tbody tr th {\n",
       "        vertical-align: top;\n",
       "    }\n",
       "\n",
       "    .dataframe thead th {\n",
       "        text-align: right;\n",
       "    }\n",
       "</style>\n",
       "<table border=\"1\" class=\"dataframe\">\n",
       "  <thead>\n",
       "    <tr style=\"text-align: right;\">\n",
       "      <th></th>\n",
       "      <th>Id</th>\n",
       "      <th>ActivityDate</th>\n",
       "      <th>TotalSteps</th>\n",
       "      <th>TotalDistance</th>\n",
       "      <th>TrackerDistance</th>\n",
       "      <th>LoggedActivitiesDistance</th>\n",
       "      <th>VeryActiveDistance</th>\n",
       "      <th>ModeratelyActiveDistance</th>\n",
       "      <th>LightActiveDistance</th>\n",
       "      <th>SedentaryActiveDistance</th>\n",
       "      <th>VeryActiveMinutes</th>\n",
       "      <th>FairlyActiveMinutes</th>\n",
       "      <th>LightlyActiveMinutes</th>\n",
       "      <th>SedentaryMinutes</th>\n",
       "      <th>Calories</th>\n",
       "    </tr>\n",
       "  </thead>\n",
       "  <tbody>\n",
       "    <tr>\n",
       "      <th>0</th>\n",
       "      <td>1503960366</td>\n",
       "      <td>4/12/2016</td>\n",
       "      <td>13162</td>\n",
       "      <td>8.50</td>\n",
       "      <td>8.50</td>\n",
       "      <td>0.0</td>\n",
       "      <td>1.88</td>\n",
       "      <td>0.55</td>\n",
       "      <td>6.06</td>\n",
       "      <td>0.0</td>\n",
       "      <td>25</td>\n",
       "      <td>13</td>\n",
       "      <td>328</td>\n",
       "      <td>728</td>\n",
       "      <td>1985</td>\n",
       "    </tr>\n",
       "    <tr>\n",
       "      <th>1</th>\n",
       "      <td>1503960366</td>\n",
       "      <td>4/13/2016</td>\n",
       "      <td>10735</td>\n",
       "      <td>6.97</td>\n",
       "      <td>6.97</td>\n",
       "      <td>0.0</td>\n",
       "      <td>1.57</td>\n",
       "      <td>0.69</td>\n",
       "      <td>4.71</td>\n",
       "      <td>0.0</td>\n",
       "      <td>21</td>\n",
       "      <td>19</td>\n",
       "      <td>217</td>\n",
       "      <td>776</td>\n",
       "      <td>1797</td>\n",
       "    </tr>\n",
       "    <tr>\n",
       "      <th>2</th>\n",
       "      <td>1503960366</td>\n",
       "      <td>4/14/2016</td>\n",
       "      <td>10460</td>\n",
       "      <td>6.74</td>\n",
       "      <td>6.74</td>\n",
       "      <td>0.0</td>\n",
       "      <td>2.44</td>\n",
       "      <td>0.40</td>\n",
       "      <td>3.91</td>\n",
       "      <td>0.0</td>\n",
       "      <td>30</td>\n",
       "      <td>11</td>\n",
       "      <td>181</td>\n",
       "      <td>1218</td>\n",
       "      <td>1776</td>\n",
       "    </tr>\n",
       "    <tr>\n",
       "      <th>3</th>\n",
       "      <td>1503960366</td>\n",
       "      <td>4/15/2016</td>\n",
       "      <td>9762</td>\n",
       "      <td>6.28</td>\n",
       "      <td>6.28</td>\n",
       "      <td>0.0</td>\n",
       "      <td>2.14</td>\n",
       "      <td>1.26</td>\n",
       "      <td>2.83</td>\n",
       "      <td>0.0</td>\n",
       "      <td>29</td>\n",
       "      <td>34</td>\n",
       "      <td>209</td>\n",
       "      <td>726</td>\n",
       "      <td>1745</td>\n",
       "    </tr>\n",
       "    <tr>\n",
       "      <th>4</th>\n",
       "      <td>1503960366</td>\n",
       "      <td>4/16/2016</td>\n",
       "      <td>12669</td>\n",
       "      <td>8.16</td>\n",
       "      <td>8.16</td>\n",
       "      <td>0.0</td>\n",
       "      <td>2.71</td>\n",
       "      <td>0.41</td>\n",
       "      <td>5.04</td>\n",
       "      <td>0.0</td>\n",
       "      <td>36</td>\n",
       "      <td>10</td>\n",
       "      <td>221</td>\n",
       "      <td>773</td>\n",
       "      <td>1863</td>\n",
       "    </tr>\n",
       "  </tbody>\n",
       "</table>\n",
       "</div>"
      ],
      "text/plain": [
       "           Id ActivityDate  TotalSteps  TotalDistance  TrackerDistance  \\\n",
       "0  1503960366    4/12/2016       13162           8.50             8.50   \n",
       "1  1503960366    4/13/2016       10735           6.97             6.97   \n",
       "2  1503960366    4/14/2016       10460           6.74             6.74   \n",
       "3  1503960366    4/15/2016        9762           6.28             6.28   \n",
       "4  1503960366    4/16/2016       12669           8.16             8.16   \n",
       "\n",
       "   LoggedActivitiesDistance  VeryActiveDistance  ModeratelyActiveDistance  \\\n",
       "0                       0.0                1.88                      0.55   \n",
       "1                       0.0                1.57                      0.69   \n",
       "2                       0.0                2.44                      0.40   \n",
       "3                       0.0                2.14                      1.26   \n",
       "4                       0.0                2.71                      0.41   \n",
       "\n",
       "   LightActiveDistance  SedentaryActiveDistance  VeryActiveMinutes  \\\n",
       "0                 6.06                      0.0                 25   \n",
       "1                 4.71                      0.0                 21   \n",
       "2                 3.91                      0.0                 30   \n",
       "3                 2.83                      0.0                 29   \n",
       "4                 5.04                      0.0                 36   \n",
       "\n",
       "   FairlyActiveMinutes  LightlyActiveMinutes  SedentaryMinutes  Calories  \n",
       "0                   13                   328               728      1985  \n",
       "1                   19                   217               776      1797  \n",
       "2                   11                   181              1218      1776  \n",
       "3                   34                   209               726      1745  \n",
       "4                   10                   221               773      1863  "
      ]
     },
     "execution_count": 41,
     "metadata": {},
     "output_type": "execute_result"
    }
   ],
   "source": [
    "daily_activity.head()"
   ]
  },
  {
   "cell_type": "code",
   "execution_count": 42,
   "id": "7b7b7abf-2d3a-4b33-9cde-52f6c19e622c",
   "metadata": {},
   "outputs": [
    {
     "data": {
      "text/html": [
       "<div>\n",
       "<style scoped>\n",
       "    .dataframe tbody tr th:only-of-type {\n",
       "        vertical-align: middle;\n",
       "    }\n",
       "\n",
       "    .dataframe tbody tr th {\n",
       "        vertical-align: top;\n",
       "    }\n",
       "\n",
       "    .dataframe thead th {\n",
       "        text-align: right;\n",
       "    }\n",
       "</style>\n",
       "<table border=\"1\" class=\"dataframe\">\n",
       "  <thead>\n",
       "    <tr style=\"text-align: right;\">\n",
       "      <th></th>\n",
       "      <th>Id</th>\n",
       "      <th>ActivityHour</th>\n",
       "      <th>StepTotal</th>\n",
       "    </tr>\n",
       "  </thead>\n",
       "  <tbody>\n",
       "    <tr>\n",
       "      <th>0</th>\n",
       "      <td>1503960366</td>\n",
       "      <td>4/12/2016 12:00:00 AM</td>\n",
       "      <td>373</td>\n",
       "    </tr>\n",
       "    <tr>\n",
       "      <th>1</th>\n",
       "      <td>1503960366</td>\n",
       "      <td>4/12/2016 1:00:00 AM</td>\n",
       "      <td>160</td>\n",
       "    </tr>\n",
       "    <tr>\n",
       "      <th>2</th>\n",
       "      <td>1503960366</td>\n",
       "      <td>4/12/2016 2:00:00 AM</td>\n",
       "      <td>151</td>\n",
       "    </tr>\n",
       "    <tr>\n",
       "      <th>3</th>\n",
       "      <td>1503960366</td>\n",
       "      <td>4/12/2016 3:00:00 AM</td>\n",
       "      <td>0</td>\n",
       "    </tr>\n",
       "    <tr>\n",
       "      <th>4</th>\n",
       "      <td>1503960366</td>\n",
       "      <td>4/12/2016 4:00:00 AM</td>\n",
       "      <td>0</td>\n",
       "    </tr>\n",
       "  </tbody>\n",
       "</table>\n",
       "</div>"
      ],
      "text/plain": [
       "           Id           ActivityHour  StepTotal\n",
       "0  1503960366  4/12/2016 12:00:00 AM        373\n",
       "1  1503960366   4/12/2016 1:00:00 AM        160\n",
       "2  1503960366   4/12/2016 2:00:00 AM        151\n",
       "3  1503960366   4/12/2016 3:00:00 AM          0\n",
       "4  1503960366   4/12/2016 4:00:00 AM          0"
      ]
     },
     "execution_count": 42,
     "metadata": {},
     "output_type": "execute_result"
    }
   ],
   "source": [
    "hourly_steps.head()"
   ]
  },
  {
   "cell_type": "code",
   "execution_count": 43,
   "id": "89d78437-5d1b-4e38-87de-2156ea0ed3f5",
   "metadata": {},
   "outputs": [
    {
     "data": {
      "text/html": [
       "<div>\n",
       "<style scoped>\n",
       "    .dataframe tbody tr th:only-of-type {\n",
       "        vertical-align: middle;\n",
       "    }\n",
       "\n",
       "    .dataframe tbody tr th {\n",
       "        vertical-align: top;\n",
       "    }\n",
       "\n",
       "    .dataframe thead th {\n",
       "        text-align: right;\n",
       "    }\n",
       "</style>\n",
       "<table border=\"1\" class=\"dataframe\">\n",
       "  <thead>\n",
       "    <tr style=\"text-align: right;\">\n",
       "      <th></th>\n",
       "      <th>Id</th>\n",
       "      <th>ActivityHour</th>\n",
       "      <th>Calories</th>\n",
       "    </tr>\n",
       "  </thead>\n",
       "  <tbody>\n",
       "    <tr>\n",
       "      <th>0</th>\n",
       "      <td>1503960366</td>\n",
       "      <td>4/12/2016 12:00:00 AM</td>\n",
       "      <td>81</td>\n",
       "    </tr>\n",
       "    <tr>\n",
       "      <th>1</th>\n",
       "      <td>1503960366</td>\n",
       "      <td>4/12/2016 1:00:00 AM</td>\n",
       "      <td>61</td>\n",
       "    </tr>\n",
       "    <tr>\n",
       "      <th>2</th>\n",
       "      <td>1503960366</td>\n",
       "      <td>4/12/2016 2:00:00 AM</td>\n",
       "      <td>59</td>\n",
       "    </tr>\n",
       "    <tr>\n",
       "      <th>3</th>\n",
       "      <td>1503960366</td>\n",
       "      <td>4/12/2016 3:00:00 AM</td>\n",
       "      <td>47</td>\n",
       "    </tr>\n",
       "    <tr>\n",
       "      <th>4</th>\n",
       "      <td>1503960366</td>\n",
       "      <td>4/12/2016 4:00:00 AM</td>\n",
       "      <td>48</td>\n",
       "    </tr>\n",
       "  </tbody>\n",
       "</table>\n",
       "</div>"
      ],
      "text/plain": [
       "           Id           ActivityHour  Calories\n",
       "0  1503960366  4/12/2016 12:00:00 AM        81\n",
       "1  1503960366   4/12/2016 1:00:00 AM        61\n",
       "2  1503960366   4/12/2016 2:00:00 AM        59\n",
       "3  1503960366   4/12/2016 3:00:00 AM        47\n",
       "4  1503960366   4/12/2016 4:00:00 AM        48"
      ]
     },
     "execution_count": 43,
     "metadata": {},
     "output_type": "execute_result"
    }
   ],
   "source": [
    "hourly_calories.head()"
   ]
  },
  {
   "cell_type": "code",
   "execution_count": 61,
   "id": "bfc663a1-65ef-49d2-96e7-f18e1a10e5fb",
   "metadata": {},
   "outputs": [
    {
     "data": {
      "text/html": [
       "<div>\n",
       "<style scoped>\n",
       "    .dataframe tbody tr th:only-of-type {\n",
       "        vertical-align: middle;\n",
       "    }\n",
       "\n",
       "    .dataframe tbody tr th {\n",
       "        vertical-align: top;\n",
       "    }\n",
       "\n",
       "    .dataframe thead th {\n",
       "        text-align: right;\n",
       "    }\n",
       "</style>\n",
       "<table border=\"1\" class=\"dataframe\">\n",
       "  <thead>\n",
       "    <tr style=\"text-align: right;\">\n",
       "      <th></th>\n",
       "      <th>Id</th>\n",
       "      <th>ActivityDay</th>\n",
       "      <th>TotalSleepRecords</th>\n",
       "      <th>TotalMinutesAsleep</th>\n",
       "      <th>TotalTimeInBed</th>\n",
       "      <th>weekday</th>\n",
       "    </tr>\n",
       "  </thead>\n",
       "  <tbody>\n",
       "    <tr>\n",
       "      <th>0</th>\n",
       "      <td>1503960366</td>\n",
       "      <td>2016-04-12</td>\n",
       "      <td>1</td>\n",
       "      <td>327</td>\n",
       "      <td>346</td>\n",
       "      <td>Tuesday</td>\n",
       "    </tr>\n",
       "    <tr>\n",
       "      <th>1</th>\n",
       "      <td>1503960366</td>\n",
       "      <td>2016-04-13</td>\n",
       "      <td>2</td>\n",
       "      <td>384</td>\n",
       "      <td>407</td>\n",
       "      <td>Wednesday</td>\n",
       "    </tr>\n",
       "    <tr>\n",
       "      <th>2</th>\n",
       "      <td>1503960366</td>\n",
       "      <td>2016-04-15</td>\n",
       "      <td>1</td>\n",
       "      <td>412</td>\n",
       "      <td>442</td>\n",
       "      <td>Friday</td>\n",
       "    </tr>\n",
       "    <tr>\n",
       "      <th>3</th>\n",
       "      <td>1503960366</td>\n",
       "      <td>2016-04-16</td>\n",
       "      <td>2</td>\n",
       "      <td>340</td>\n",
       "      <td>367</td>\n",
       "      <td>Saturday</td>\n",
       "    </tr>\n",
       "    <tr>\n",
       "      <th>4</th>\n",
       "      <td>1503960366</td>\n",
       "      <td>2016-04-17</td>\n",
       "      <td>1</td>\n",
       "      <td>700</td>\n",
       "      <td>712</td>\n",
       "      <td>Sunday</td>\n",
       "    </tr>\n",
       "  </tbody>\n",
       "</table>\n",
       "</div>"
      ],
      "text/plain": [
       "           Id ActivityDay  TotalSleepRecords  TotalMinutesAsleep  \\\n",
       "0  1503960366  2016-04-12                  1                 327   \n",
       "1  1503960366  2016-04-13                  2                 384   \n",
       "2  1503960366  2016-04-15                  1                 412   \n",
       "3  1503960366  2016-04-16                  2                 340   \n",
       "4  1503960366  2016-04-17                  1                 700   \n",
       "\n",
       "   TotalTimeInBed    weekday  \n",
       "0             346    Tuesday  \n",
       "1             407  Wednesday  \n",
       "2             442     Friday  \n",
       "3             367   Saturday  \n",
       "4             712     Sunday  "
      ]
     },
     "execution_count": 61,
     "metadata": {},
     "output_type": "execute_result"
    }
   ],
   "source": [
    "sleepday.head()"
   ]
  },
  {
   "cell_type": "code",
   "execution_count": 8,
   "id": "c7b3617f-b02b-4994-8bfa-42b5d75252e8",
   "metadata": {},
   "outputs": [
    {
     "data": {
      "text/html": [
       "<div>\n",
       "<style scoped>\n",
       "    .dataframe tbody tr th:only-of-type {\n",
       "        vertical-align: middle;\n",
       "    }\n",
       "\n",
       "    .dataframe tbody tr th {\n",
       "        vertical-align: top;\n",
       "    }\n",
       "\n",
       "    .dataframe thead th {\n",
       "        text-align: right;\n",
       "    }\n",
       "</style>\n",
       "<table border=\"1\" class=\"dataframe\">\n",
       "  <thead>\n",
       "    <tr style=\"text-align: right;\">\n",
       "      <th></th>\n",
       "      <th>Id</th>\n",
       "      <th>ActivityDay</th>\n",
       "      <th>Calories</th>\n",
       "    </tr>\n",
       "  </thead>\n",
       "  <tbody>\n",
       "    <tr>\n",
       "      <th>0</th>\n",
       "      <td>1503960366</td>\n",
       "      <td>4/12/2016</td>\n",
       "      <td>1985</td>\n",
       "    </tr>\n",
       "    <tr>\n",
       "      <th>1</th>\n",
       "      <td>1503960366</td>\n",
       "      <td>4/13/2016</td>\n",
       "      <td>1797</td>\n",
       "    </tr>\n",
       "    <tr>\n",
       "      <th>2</th>\n",
       "      <td>1503960366</td>\n",
       "      <td>4/14/2016</td>\n",
       "      <td>1776</td>\n",
       "    </tr>\n",
       "    <tr>\n",
       "      <th>3</th>\n",
       "      <td>1503960366</td>\n",
       "      <td>4/15/2016</td>\n",
       "      <td>1745</td>\n",
       "    </tr>\n",
       "    <tr>\n",
       "      <th>4</th>\n",
       "      <td>1503960366</td>\n",
       "      <td>4/16/2016</td>\n",
       "      <td>1863</td>\n",
       "    </tr>\n",
       "  </tbody>\n",
       "</table>\n",
       "</div>"
      ],
      "text/plain": [
       "           Id ActivityDay  Calories\n",
       "0  1503960366   4/12/2016      1985\n",
       "1  1503960366   4/13/2016      1797\n",
       "2  1503960366   4/14/2016      1776\n",
       "3  1503960366   4/15/2016      1745\n",
       "4  1503960366   4/16/2016      1863"
      ]
     },
     "execution_count": 8,
     "metadata": {},
     "output_type": "execute_result"
    }
   ],
   "source": [
    "daily_calories.head()"
   ]
  },
  {
   "cell_type": "code",
   "execution_count": 9,
   "id": "19f02322-7505-4347-b132-045b56c568c2",
   "metadata": {},
   "outputs": [
    {
     "data": {
      "text/html": [
       "<div>\n",
       "<style scoped>\n",
       "    .dataframe tbody tr th:only-of-type {\n",
       "        vertical-align: middle;\n",
       "    }\n",
       "\n",
       "    .dataframe tbody tr th {\n",
       "        vertical-align: top;\n",
       "    }\n",
       "\n",
       "    .dataframe thead th {\n",
       "        text-align: right;\n",
       "    }\n",
       "</style>\n",
       "<table border=\"1\" class=\"dataframe\">\n",
       "  <thead>\n",
       "    <tr style=\"text-align: right;\">\n",
       "      <th></th>\n",
       "      <th>Id</th>\n",
       "      <th>ActivityDay</th>\n",
       "      <th>SedentaryMinutes</th>\n",
       "      <th>LightlyActiveMinutes</th>\n",
       "      <th>FairlyActiveMinutes</th>\n",
       "      <th>VeryActiveMinutes</th>\n",
       "      <th>SedentaryActiveDistance</th>\n",
       "      <th>LightActiveDistance</th>\n",
       "      <th>ModeratelyActiveDistance</th>\n",
       "      <th>VeryActiveDistance</th>\n",
       "    </tr>\n",
       "  </thead>\n",
       "  <tbody>\n",
       "    <tr>\n",
       "      <th>0</th>\n",
       "      <td>1503960366</td>\n",
       "      <td>4/12/2016</td>\n",
       "      <td>728</td>\n",
       "      <td>328</td>\n",
       "      <td>13</td>\n",
       "      <td>25</td>\n",
       "      <td>0.0</td>\n",
       "      <td>6.06</td>\n",
       "      <td>0.55</td>\n",
       "      <td>1.88</td>\n",
       "    </tr>\n",
       "    <tr>\n",
       "      <th>1</th>\n",
       "      <td>1503960366</td>\n",
       "      <td>4/13/2016</td>\n",
       "      <td>776</td>\n",
       "      <td>217</td>\n",
       "      <td>19</td>\n",
       "      <td>21</td>\n",
       "      <td>0.0</td>\n",
       "      <td>4.71</td>\n",
       "      <td>0.69</td>\n",
       "      <td>1.57</td>\n",
       "    </tr>\n",
       "    <tr>\n",
       "      <th>2</th>\n",
       "      <td>1503960366</td>\n",
       "      <td>4/14/2016</td>\n",
       "      <td>1218</td>\n",
       "      <td>181</td>\n",
       "      <td>11</td>\n",
       "      <td>30</td>\n",
       "      <td>0.0</td>\n",
       "      <td>3.91</td>\n",
       "      <td>0.40</td>\n",
       "      <td>2.44</td>\n",
       "    </tr>\n",
       "    <tr>\n",
       "      <th>3</th>\n",
       "      <td>1503960366</td>\n",
       "      <td>4/15/2016</td>\n",
       "      <td>726</td>\n",
       "      <td>209</td>\n",
       "      <td>34</td>\n",
       "      <td>29</td>\n",
       "      <td>0.0</td>\n",
       "      <td>2.83</td>\n",
       "      <td>1.26</td>\n",
       "      <td>2.14</td>\n",
       "    </tr>\n",
       "    <tr>\n",
       "      <th>4</th>\n",
       "      <td>1503960366</td>\n",
       "      <td>4/16/2016</td>\n",
       "      <td>773</td>\n",
       "      <td>221</td>\n",
       "      <td>10</td>\n",
       "      <td>36</td>\n",
       "      <td>0.0</td>\n",
       "      <td>5.04</td>\n",
       "      <td>0.41</td>\n",
       "      <td>2.71</td>\n",
       "    </tr>\n",
       "  </tbody>\n",
       "</table>\n",
       "</div>"
      ],
      "text/plain": [
       "           Id ActivityDay  SedentaryMinutes  LightlyActiveMinutes  \\\n",
       "0  1503960366   4/12/2016               728                   328   \n",
       "1  1503960366   4/13/2016               776                   217   \n",
       "2  1503960366   4/14/2016              1218                   181   \n",
       "3  1503960366   4/15/2016               726                   209   \n",
       "4  1503960366   4/16/2016               773                   221   \n",
       "\n",
       "   FairlyActiveMinutes  VeryActiveMinutes  SedentaryActiveDistance  \\\n",
       "0                   13                 25                      0.0   \n",
       "1                   19                 21                      0.0   \n",
       "2                   11                 30                      0.0   \n",
       "3                   34                 29                      0.0   \n",
       "4                   10                 36                      0.0   \n",
       "\n",
       "   LightActiveDistance  ModeratelyActiveDistance  VeryActiveDistance  \n",
       "0                 6.06                      0.55                1.88  \n",
       "1                 4.71                      0.69                1.57  \n",
       "2                 3.91                      0.40                2.44  \n",
       "3                 2.83                      1.26                2.14  \n",
       "4                 5.04                      0.41                2.71  "
      ]
     },
     "execution_count": 9,
     "metadata": {},
     "output_type": "execute_result"
    }
   ],
   "source": [
    "daily_intensity.head()"
   ]
  },
  {
   "cell_type": "code",
   "execution_count": 10,
   "id": "e65acf95-c1fb-44c5-a1f8-fb701c002af8",
   "metadata": {},
   "outputs": [
    {
     "data": {
      "text/html": [
       "<div>\n",
       "<style scoped>\n",
       "    .dataframe tbody tr th:only-of-type {\n",
       "        vertical-align: middle;\n",
       "    }\n",
       "\n",
       "    .dataframe tbody tr th {\n",
       "        vertical-align: top;\n",
       "    }\n",
       "\n",
       "    .dataframe thead th {\n",
       "        text-align: right;\n",
       "    }\n",
       "</style>\n",
       "<table border=\"1\" class=\"dataframe\">\n",
       "  <thead>\n",
       "    <tr style=\"text-align: right;\">\n",
       "      <th></th>\n",
       "      <th>Id</th>\n",
       "      <th>Date</th>\n",
       "      <th>WeightKg</th>\n",
       "      <th>WeightPounds</th>\n",
       "      <th>Fat</th>\n",
       "      <th>BMI</th>\n",
       "      <th>IsManualReport</th>\n",
       "      <th>LogId</th>\n",
       "    </tr>\n",
       "  </thead>\n",
       "  <tbody>\n",
       "    <tr>\n",
       "      <th>0</th>\n",
       "      <td>1503960366</td>\n",
       "      <td>5/2/2016 11:59:59 PM</td>\n",
       "      <td>52.599998</td>\n",
       "      <td>115.963147</td>\n",
       "      <td>22.0</td>\n",
       "      <td>22.650000</td>\n",
       "      <td>True</td>\n",
       "      <td>1462233599000</td>\n",
       "    </tr>\n",
       "    <tr>\n",
       "      <th>1</th>\n",
       "      <td>1503960366</td>\n",
       "      <td>5/3/2016 11:59:59 PM</td>\n",
       "      <td>52.599998</td>\n",
       "      <td>115.963147</td>\n",
       "      <td>NaN</td>\n",
       "      <td>22.650000</td>\n",
       "      <td>True</td>\n",
       "      <td>1462319999000</td>\n",
       "    </tr>\n",
       "    <tr>\n",
       "      <th>2</th>\n",
       "      <td>1927972279</td>\n",
       "      <td>4/13/2016 1:08:52 AM</td>\n",
       "      <td>133.500000</td>\n",
       "      <td>294.317120</td>\n",
       "      <td>NaN</td>\n",
       "      <td>47.540001</td>\n",
       "      <td>False</td>\n",
       "      <td>1460509732000</td>\n",
       "    </tr>\n",
       "    <tr>\n",
       "      <th>3</th>\n",
       "      <td>2873212765</td>\n",
       "      <td>4/21/2016 11:59:59 PM</td>\n",
       "      <td>56.700001</td>\n",
       "      <td>125.002104</td>\n",
       "      <td>NaN</td>\n",
       "      <td>21.450001</td>\n",
       "      <td>True</td>\n",
       "      <td>1461283199000</td>\n",
       "    </tr>\n",
       "    <tr>\n",
       "      <th>4</th>\n",
       "      <td>2873212765</td>\n",
       "      <td>5/12/2016 11:59:59 PM</td>\n",
       "      <td>57.299999</td>\n",
       "      <td>126.324875</td>\n",
       "      <td>NaN</td>\n",
       "      <td>21.690001</td>\n",
       "      <td>True</td>\n",
       "      <td>1463097599000</td>\n",
       "    </tr>\n",
       "  </tbody>\n",
       "</table>\n",
       "</div>"
      ],
      "text/plain": [
       "           Id                   Date    WeightKg  WeightPounds   Fat  \\\n",
       "0  1503960366   5/2/2016 11:59:59 PM   52.599998    115.963147  22.0   \n",
       "1  1503960366   5/3/2016 11:59:59 PM   52.599998    115.963147   NaN   \n",
       "2  1927972279   4/13/2016 1:08:52 AM  133.500000    294.317120   NaN   \n",
       "3  2873212765  4/21/2016 11:59:59 PM   56.700001    125.002104   NaN   \n",
       "4  2873212765  5/12/2016 11:59:59 PM   57.299999    126.324875   NaN   \n",
       "\n",
       "         BMI  IsManualReport          LogId  \n",
       "0  22.650000            True  1462233599000  \n",
       "1  22.650000            True  1462319999000  \n",
       "2  47.540001           False  1460509732000  \n",
       "3  21.450001            True  1461283199000  \n",
       "4  21.690001            True  1463097599000  "
      ]
     },
     "execution_count": 10,
     "metadata": {},
     "output_type": "execute_result"
    }
   ],
   "source": [
    "weight_log.head()"
   ]
  },
  {
   "cell_type": "code",
   "execution_count": 44,
   "id": "d6e2d7c3-b685-41b8-99af-b70ddc0febea",
   "metadata": {},
   "outputs": [
    {
     "data": {
      "text/html": [
       "<div>\n",
       "<style scoped>\n",
       "    .dataframe tbody tr th:only-of-type {\n",
       "        vertical-align: middle;\n",
       "    }\n",
       "\n",
       "    .dataframe tbody tr th {\n",
       "        vertical-align: top;\n",
       "    }\n",
       "\n",
       "    .dataframe thead th {\n",
       "        text-align: right;\n",
       "    }\n",
       "</style>\n",
       "<table border=\"1\" class=\"dataframe\">\n",
       "  <thead>\n",
       "    <tr style=\"text-align: right;\">\n",
       "      <th></th>\n",
       "      <th>Id</th>\n",
       "      <th>ActivityDay</th>\n",
       "      <th>StepTotal</th>\n",
       "    </tr>\n",
       "  </thead>\n",
       "  <tbody>\n",
       "    <tr>\n",
       "      <th>0</th>\n",
       "      <td>1503960366</td>\n",
       "      <td>4/12/2016</td>\n",
       "      <td>13162</td>\n",
       "    </tr>\n",
       "    <tr>\n",
       "      <th>1</th>\n",
       "      <td>1503960366</td>\n",
       "      <td>4/13/2016</td>\n",
       "      <td>10735</td>\n",
       "    </tr>\n",
       "    <tr>\n",
       "      <th>2</th>\n",
       "      <td>1503960366</td>\n",
       "      <td>4/14/2016</td>\n",
       "      <td>10460</td>\n",
       "    </tr>\n",
       "    <tr>\n",
       "      <th>3</th>\n",
       "      <td>1503960366</td>\n",
       "      <td>4/15/2016</td>\n",
       "      <td>9762</td>\n",
       "    </tr>\n",
       "    <tr>\n",
       "      <th>4</th>\n",
       "      <td>1503960366</td>\n",
       "      <td>4/16/2016</td>\n",
       "      <td>12669</td>\n",
       "    </tr>\n",
       "  </tbody>\n",
       "</table>\n",
       "</div>"
      ],
      "text/plain": [
       "           Id ActivityDay  StepTotal\n",
       "0  1503960366   4/12/2016      13162\n",
       "1  1503960366   4/13/2016      10735\n",
       "2  1503960366   4/14/2016      10460\n",
       "3  1503960366   4/15/2016       9762\n",
       "4  1503960366   4/16/2016      12669"
      ]
     },
     "execution_count": 44,
     "metadata": {},
     "output_type": "execute_result"
    }
   ],
   "source": [
    "daily_steps.head()"
   ]
  },
  {
   "cell_type": "code",
   "execution_count": 12,
   "id": "cc917e7d-0d17-4d1d-9c15-239f4303df7c",
   "metadata": {},
   "outputs": [
    {
     "data": {
      "text/html": [
       "<div>\n",
       "<style scoped>\n",
       "    .dataframe tbody tr th:only-of-type {\n",
       "        vertical-align: middle;\n",
       "    }\n",
       "\n",
       "    .dataframe tbody tr th {\n",
       "        vertical-align: top;\n",
       "    }\n",
       "\n",
       "    .dataframe thead th {\n",
       "        text-align: right;\n",
       "    }\n",
       "</style>\n",
       "<table border=\"1\" class=\"dataframe\">\n",
       "  <thead>\n",
       "    <tr style=\"text-align: right;\">\n",
       "      <th></th>\n",
       "      <th>Id</th>\n",
       "      <th>Time</th>\n",
       "      <th>Value</th>\n",
       "    </tr>\n",
       "  </thead>\n",
       "  <tbody>\n",
       "    <tr>\n",
       "      <th>0</th>\n",
       "      <td>2022484408</td>\n",
       "      <td>4/12/2016 7:21:00 AM</td>\n",
       "      <td>97</td>\n",
       "    </tr>\n",
       "    <tr>\n",
       "      <th>1</th>\n",
       "      <td>2022484408</td>\n",
       "      <td>4/12/2016 7:21:05 AM</td>\n",
       "      <td>102</td>\n",
       "    </tr>\n",
       "    <tr>\n",
       "      <th>2</th>\n",
       "      <td>2022484408</td>\n",
       "      <td>4/12/2016 7:21:10 AM</td>\n",
       "      <td>105</td>\n",
       "    </tr>\n",
       "    <tr>\n",
       "      <th>3</th>\n",
       "      <td>2022484408</td>\n",
       "      <td>4/12/2016 7:21:20 AM</td>\n",
       "      <td>103</td>\n",
       "    </tr>\n",
       "    <tr>\n",
       "      <th>4</th>\n",
       "      <td>2022484408</td>\n",
       "      <td>4/12/2016 7:21:25 AM</td>\n",
       "      <td>101</td>\n",
       "    </tr>\n",
       "  </tbody>\n",
       "</table>\n",
       "</div>"
      ],
      "text/plain": [
       "           Id                  Time  Value\n",
       "0  2022484408  4/12/2016 7:21:00 AM     97\n",
       "1  2022484408  4/12/2016 7:21:05 AM    102\n",
       "2  2022484408  4/12/2016 7:21:10 AM    105\n",
       "3  2022484408  4/12/2016 7:21:20 AM    103\n",
       "4  2022484408  4/12/2016 7:21:25 AM    101"
      ]
     },
     "execution_count": 12,
     "metadata": {},
     "output_type": "execute_result"
    }
   ],
   "source": [
    "\n",
    "heartrate_secs.head()"
   ]
  },
  {
   "cell_type": "markdown",
   "id": "9fdd91c4-81a8-4557-8d62-75bed64cd51b",
   "metadata": {},
   "source": [
    "All the column names are described below:"
   ]
  },
  {
   "cell_type": "code",
   "execution_count": 45,
   "id": "46a9967c-5827-487f-bb7b-aa08de13a1c3",
   "metadata": {},
   "outputs": [
    {
     "name": "stdout",
     "output_type": "stream",
     "text": [
      "Daily Activity: Index(['Id', 'ActivityDate', 'TotalSteps', 'TotalDistance', 'TrackerDistance',\n",
      "       'LoggedActivitiesDistance', 'VeryActiveDistance',\n",
      "       'ModeratelyActiveDistance', 'LightActiveDistance',\n",
      "       'SedentaryActiveDistance', 'VeryActiveMinutes', 'FairlyActiveMinutes',\n",
      "       'LightlyActiveMinutes', 'SedentaryMinutes', 'Calories'],\n",
      "      dtype='object')\n",
      "\n",
      "Hourly Steps: Index(['Id', 'ActivityHour', 'StepTotal'], dtype='object')\n",
      "\n",
      "Hourly Calories: Index(['Id', 'ActivityHour', 'Calories'], dtype='object')\n",
      "\n",
      "Sleepday: Index(['Id', 'SleepDay', 'TotalSleepRecords', 'TotalMinutesAsleep',\n",
      "       'TotalTimeInBed'],\n",
      "      dtype='object')\n",
      "\n",
      "Daily Calories: Index(['Id', 'ActivityDay', 'Calories'], dtype='object')\n",
      "\n",
      "Daily Intensity: Index(['Id', 'ActivityDay', 'SedentaryMinutes', 'LightlyActiveMinutes',\n",
      "       'FairlyActiveMinutes', 'VeryActiveMinutes', 'SedentaryActiveDistance',\n",
      "       'LightActiveDistance', 'ModeratelyActiveDistance',\n",
      "       'VeryActiveDistance'],\n",
      "      dtype='object')\n",
      "\n",
      "Weight Log: Index(['Id', 'Date', 'WeightKg', 'WeightPounds', 'Fat', 'BMI',\n",
      "       'IsManualReport', 'LogId'],\n",
      "      dtype='object')\n",
      "\n",
      "Daily Steps: Index(['Id', 'ActivityDay', 'StepTotal'], dtype='object')\n",
      "\n",
      "Heart Rate: Index(['Id', 'Time', 'Value'], dtype='object')\n"
     ]
    }
   ],
   "source": [
    "print(\"Daily Activity:\",daily_activity.columns)\n",
    "print()\n",
    "print(\"Hourly Steps:\",hourly_steps.columns)\n",
    "print()\n",
    "print(\"Hourly Calories:\",hourly_calories.columns)\n",
    "print()\n",
    "print(\"Sleepday:\",sleepday.columns)\n",
    "print()\n",
    "print(\"Daily Calories:\",daily_calories.columns)\n",
    "print()\n",
    "print(\"Daily Intensity:\",daily_intensity.columns)\n",
    "print()\n",
    "print(\"Weight Log:\",weight_log.columns)\n",
    "print()\n",
    "print(\"Daily Steps:\",daily_steps.columns)\n",
    "print()\n",
    "print(\"Heart Rate:\",heartrate_secs.columns)"
   ]
  },
  {
   "cell_type": "markdown",
   "id": "14522870-c513-4e1c-8df2-f145376aafa2",
   "metadata": {},
   "source": [
    "\n",
    "Next, let's see how many **<span style=\"color:orange\">unique users</span>** are in each dataset. We'll start with the first 5, and then the last 5."
   ]
  },
  {
   "cell_type": "code",
   "execution_count": 46,
   "id": "d130bca7-5bb6-4988-981e-8dea451fb4df",
   "metadata": {},
   "outputs": [
    {
     "name": "stdout",
     "output_type": "stream",
     "text": [
      "Daily Activity: 33 unique users\n",
      "\n",
      "Hourly Steps: 33 unique users\n",
      "\n",
      "Hourly Calories: 33 unique users\n",
      "\n",
      "Sleepday: 24 unique users\n",
      "\n",
      "Daily Calories: 33 unique users\n",
      "\n",
      "Daily Intensity: 33 unique users\n",
      "\n",
      "Weight Log: 8 unique users\n",
      "\n",
      "Daily Steps: 33 unique users\n",
      "\n",
      "Heart Rate: 14 unique users\n"
     ]
    }
   ],
   "source": [
    "print(\"Daily Activity:\",daily_activity.Id.nunique(),\"unique users\")\n",
    "print()\n",
    "print(\"Hourly Steps:\",hourly_steps.Id.nunique(),\"unique users\")\n",
    "print()\n",
    "print(\"Hourly Calories:\",hourly_calories.Id.nunique(),\"unique users\")\n",
    "print()\n",
    "print(\"Sleepday:\",sleepday.Id.nunique(),\"unique users\")\n",
    "print()\n",
    "print(\"Daily Calories:\",daily_calories.Id.nunique(),\"unique users\")\n",
    "print()\n",
    "print(\"Daily Intensity:\",daily_intensity.Id.nunique(),\"unique users\")\n",
    "print()\n",
    "print(\"Weight Log:\",weight_log.Id.nunique(),\"unique users\")\n",
    "print()\n",
    "print(\"Daily Steps:\",daily_steps.Id.nunique(),\"unique users\")\n",
    "print()\n",
    "print(\"Heart Rate:\",heartrate_secs.Id.nunique(),\"unique users\")"
   ]
  },
  {
   "cell_type": "markdown",
   "id": "2dc2d73d-27eb-4aa9-83ba-f07dcc15a06b",
   "metadata": {},
   "source": [
    "\n",
    "Let's view the **<span style = \"color: orange\" > data types </span>** of datasets:\n"
   ]
  },
  {
   "cell_type": "code",
   "execution_count": 47,
   "id": "56a17443-eca0-4d58-a2b8-1c026316ae3e",
   "metadata": {},
   "outputs": [
    {
     "data": {
      "text/plain": [
       "Id                            int64\n",
       "ActivityDate                 object\n",
       "TotalSteps                    int64\n",
       "TotalDistance               float64\n",
       "TrackerDistance             float64\n",
       "LoggedActivitiesDistance    float64\n",
       "VeryActiveDistance          float64\n",
       "ModeratelyActiveDistance    float64\n",
       "LightActiveDistance         float64\n",
       "SedentaryActiveDistance     float64\n",
       "VeryActiveMinutes             int64\n",
       "FairlyActiveMinutes           int64\n",
       "LightlyActiveMinutes          int64\n",
       "SedentaryMinutes              int64\n",
       "Calories                      int64\n",
       "dtype: object"
      ]
     },
     "execution_count": 47,
     "metadata": {},
     "output_type": "execute_result"
    }
   ],
   "source": [
    "daily_activity.dtypes"
   ]
  },
  {
   "cell_type": "code",
   "execution_count": 48,
   "id": "f6b037a5-5f2b-4e71-b06d-5411f52bc5cb",
   "metadata": {},
   "outputs": [
    {
     "data": {
      "text/plain": [
       "Id               int64\n",
       "ActivityHour    object\n",
       "StepTotal        int64\n",
       "dtype: object"
      ]
     },
     "execution_count": 48,
     "metadata": {},
     "output_type": "execute_result"
    }
   ],
   "source": [
    "hourly_steps.dtypes"
   ]
  },
  {
   "cell_type": "code",
   "execution_count": 49,
   "id": "139348bb-0ea2-40d8-8802-e16b0187b76c",
   "metadata": {},
   "outputs": [
    {
     "data": {
      "text/plain": [
       "Id               int64\n",
       "ActivityHour    object\n",
       "Calories         int64\n",
       "dtype: object"
      ]
     },
     "execution_count": 49,
     "metadata": {},
     "output_type": "execute_result"
    }
   ],
   "source": [
    "hourly_calories.dtypes"
   ]
  },
  {
   "cell_type": "code",
   "execution_count": 50,
   "id": "0cfb63bc-f9eb-491e-b834-5d8ac5c0c680",
   "metadata": {},
   "outputs": [
    {
     "data": {
      "text/plain": [
       "Id                     int64\n",
       "SleepDay              object\n",
       "TotalSleepRecords      int64\n",
       "TotalMinutesAsleep     int64\n",
       "TotalTimeInBed         int64\n",
       "dtype: object"
      ]
     },
     "execution_count": 50,
     "metadata": {},
     "output_type": "execute_result"
    }
   ],
   "source": [
    "sleepday.dtypes"
   ]
  },
  {
   "cell_type": "code",
   "execution_count": 51,
   "id": "e85ac43f-eac4-4a0f-b452-b6a699c014f6",
   "metadata": {},
   "outputs": [
    {
     "data": {
      "text/plain": [
       "Id              int64\n",
       "ActivityDay    object\n",
       "Calories        int64\n",
       "dtype: object"
      ]
     },
     "execution_count": 51,
     "metadata": {},
     "output_type": "execute_result"
    }
   ],
   "source": [
    "daily_calories.dtypes"
   ]
  },
  {
   "cell_type": "code",
   "execution_count": 52,
   "id": "3d18d570-b283-440f-a0df-115e8ef09476",
   "metadata": {},
   "outputs": [
    {
     "data": {
      "text/plain": [
       "Id                            int64\n",
       "ActivityDay                  object\n",
       "SedentaryMinutes              int64\n",
       "LightlyActiveMinutes          int64\n",
       "FairlyActiveMinutes           int64\n",
       "VeryActiveMinutes             int64\n",
       "SedentaryActiveDistance     float64\n",
       "LightActiveDistance         float64\n",
       "ModeratelyActiveDistance    float64\n",
       "VeryActiveDistance          float64\n",
       "dtype: object"
      ]
     },
     "execution_count": 52,
     "metadata": {},
     "output_type": "execute_result"
    }
   ],
   "source": [
    "daily_intensity.dtypes"
   ]
  },
  {
   "cell_type": "code",
   "execution_count": 53,
   "id": "0b944204-2974-49f1-85ae-eceb6dbed3e0",
   "metadata": {},
   "outputs": [
    {
     "data": {
      "text/plain": [
       "Id                  int64\n",
       "Date               object\n",
       "WeightKg          float64\n",
       "WeightPounds      float64\n",
       "Fat               float64\n",
       "BMI               float64\n",
       "IsManualReport       bool\n",
       "LogId               int64\n",
       "dtype: object"
      ]
     },
     "execution_count": 53,
     "metadata": {},
     "output_type": "execute_result"
    }
   ],
   "source": [
    "weight_log.dtypes"
   ]
  },
  {
   "cell_type": "code",
   "execution_count": 54,
   "id": "c89c3974-6161-468d-9bdf-aa957652a285",
   "metadata": {},
   "outputs": [
    {
     "data": {
      "text/plain": [
       "Id              int64\n",
       "ActivityDay    object\n",
       "StepTotal       int64\n",
       "dtype: object"
      ]
     },
     "execution_count": 54,
     "metadata": {},
     "output_type": "execute_result"
    }
   ],
   "source": [
    "daily_steps.dtypes"
   ]
  },
  {
   "cell_type": "code",
   "execution_count": 55,
   "id": "17734f97-9e54-47fe-b563-3375bc4c9483",
   "metadata": {},
   "outputs": [
    {
     "data": {
      "text/plain": [
       "Id        int64\n",
       "Time     object\n",
       "Value     int64\n",
       "dtype: object"
      ]
     },
     "execution_count": 55,
     "metadata": {},
     "output_type": "execute_result"
    }
   ],
   "source": [
    "heartrate_secs.dtypes"
   ]
  },
  {
   "cell_type": "markdown",
   "id": "48ca7015-f104-4ba3-a07d-0aededd8a362",
   "metadata": {},
   "source": [
    "Now it's time to <span style = \"color:orange\"> check the shapes </span> of the datasets and this can be done using **.shape** attribute"
   ]
  },
  {
   "cell_type": "code",
   "execution_count": 56,
   "id": "ea90988f-9f87-42ca-bf60-26dcff0ba363",
   "metadata": {},
   "outputs": [
    {
     "data": {
      "text/plain": [
       "(940, 15)"
      ]
     },
     "execution_count": 56,
     "metadata": {},
     "output_type": "execute_result"
    }
   ],
   "source": [
    "daily_activity.shape\n"
   ]
  },
  {
   "cell_type": "code",
   "execution_count": 57,
   "id": "8c5b8814-81ec-4e6c-91d5-8a46adea177b",
   "metadata": {},
   "outputs": [
    {
     "data": {
      "text/plain": [
       "(22099, 3)"
      ]
     },
     "execution_count": 57,
     "metadata": {},
     "output_type": "execute_result"
    }
   ],
   "source": [
    "hourly_steps.shape"
   ]
  },
  {
   "cell_type": "code",
   "execution_count": 58,
   "id": "41b52262-cceb-45a3-8aba-c19ba1fc1a95",
   "metadata": {},
   "outputs": [
    {
     "data": {
      "text/plain": [
       "(22099, 3)"
      ]
     },
     "execution_count": 58,
     "metadata": {},
     "output_type": "execute_result"
    }
   ],
   "source": [
    "hourly_calories.shape"
   ]
  },
  {
   "cell_type": "code",
   "execution_count": 59,
   "id": "439b9afa-3b31-4c1f-889c-a016bb711652",
   "metadata": {},
   "outputs": [
    {
     "data": {
      "text/plain": [
       "(413, 5)"
      ]
     },
     "execution_count": 59,
     "metadata": {},
     "output_type": "execute_result"
    }
   ],
   "source": [
    "sleepday.shape"
   ]
  },
  {
   "cell_type": "code",
   "execution_count": 60,
   "id": "a826c6e6-7f9a-4f72-82eb-2169617331e2",
   "metadata": {},
   "outputs": [
    {
     "data": {
      "text/plain": [
       "(940, 3)"
      ]
     },
     "execution_count": 60,
     "metadata": {},
     "output_type": "execute_result"
    }
   ],
   "source": [
    "daily_calories.shape\n"
   ]
  },
  {
   "cell_type": "code",
   "execution_count": 29,
   "id": "8a35cc65-fab3-4bf9-88d2-ae071fd4f1f7",
   "metadata": {},
   "outputs": [
    {
     "data": {
      "text/plain": [
       "(940, 10)"
      ]
     },
     "execution_count": 29,
     "metadata": {},
     "output_type": "execute_result"
    }
   ],
   "source": [
    "daily_intensity.shape\n"
   ]
  },
  {
   "cell_type": "code",
   "execution_count": 61,
   "id": "fb0d9e13-ed9a-4cad-bf8a-877869c82c28",
   "metadata": {},
   "outputs": [
    {
     "data": {
      "text/plain": [
       "(67, 8)"
      ]
     },
     "execution_count": 61,
     "metadata": {},
     "output_type": "execute_result"
    }
   ],
   "source": [
    "weight_log.shape"
   ]
  },
  {
   "cell_type": "code",
   "execution_count": 62,
   "id": "7cc5667f-3b59-4c09-a43e-a1b4c5797be1",
   "metadata": {},
   "outputs": [
    {
     "data": {
      "text/plain": [
       "(940, 3)"
      ]
     },
     "execution_count": 62,
     "metadata": {},
     "output_type": "execute_result"
    }
   ],
   "source": [
    "daily_steps.shape"
   ]
  },
  {
   "cell_type": "code",
   "execution_count": 63,
   "id": "740d244a-ba66-4453-a59d-c64b7a3d29e1",
   "metadata": {},
   "outputs": [
    {
     "data": {
      "text/plain": [
       "(2483658, 3)"
      ]
     },
     "execution_count": 63,
     "metadata": {},
     "output_type": "execute_result"
    }
   ],
   "source": [
    "heartrate_secs.shape"
   ]
  },
  {
   "cell_type": "markdown",
   "id": "c9e980c6-68db-4808-be28-1e5893513c77",
   "metadata": {},
   "source": [
    "Let's <span style = \"color:orange\"> check for the missing values</span> using **isnull() function and values attribute** and doesnot inlude weight log due to its inappropriate shape."
   ]
  },
  {
   "cell_type": "code",
   "execution_count": 138,
   "id": "32d44468-6ddc-48bb-b481-02e11eb22773",
   "metadata": {},
   "outputs": [
    {
     "name": "stdout",
     "output_type": "stream",
     "text": [
      "Daily activity has:  0 null values\n",
      "hourly steps has:  0 null values\n",
      "hourly calories has:  0 null values\n",
      "sleepday has:  0 null values\n",
      "daily calories has:  0 null values\n",
      "daily intensity has:  0 null values\n",
      "daily steps has:  0 null values\n",
      "heartrate secs has:  0 null values\n"
     ]
    }
   ],
   "source": [
    "print(\"Daily activity has: \", daily_activity.isnull().values.sum(), \"null values\")\n",
    "print(\"hourly steps has: \", hourly_steps.isnull().values.sum(), \"null values\")\n",
    "print(\"hourly calories has: \", hourly_calories.isnull().values.sum(), \"null values\")\n",
    "print(\"sleepday has: \", sleepday.isnull().values.sum(), \"null values\")\n",
    "print(\"daily calories has: \", daily_calories.isnull().values.sum(), \"null values\")\n",
    "print(\"daily intensity has: \", daily_intensity.isnull().values.sum(), \"null values\")\n",
    "print(\"daily steps has: \", daily_steps.isnull().values.sum(), \"null values\")\n",
    "print(\"heartrate secs has: \", heartrate_secs.isnull().values.sum(), \"null values\")"
   ]
  },
  {
   "cell_type": "markdown",
   "id": "bc0e7e8a-473c-45f9-aa3a-e66da10b7976",
   "metadata": {},
   "source": [
    "Now <span style = \"color:orange\">check for duplicates </span>:"
   ]
  },
  {
   "cell_type": "code",
   "execution_count": 114,
   "id": "284030f3-f92b-4bd7-9789-4ada9a7dc821",
   "metadata": {},
   "outputs": [
    {
     "name": "stdout",
     "output_type": "stream",
     "text": [
      "daily activity has:  0    False\n",
      "1    False\n",
      "2    False\n",
      "3    False\n",
      "4    False\n",
      "dtype: bool duplicate value\n",
      "\n",
      "hourly steps has:  0    False\n",
      "1    False\n",
      "2    False\n",
      "3    False\n",
      "4    False\n",
      "dtype: bool duplicate value\n",
      "\n",
      "hourly calories has:  0    False\n",
      "1    False\n",
      "2    False\n",
      "3    False\n",
      "4    False\n",
      "dtype: bool duplicate value\n",
      "\n",
      "sleepday has:  0    False\n",
      "1    False\n",
      "2    False\n",
      "3    False\n",
      "4    False\n",
      "dtype: bool duplicate value\n",
      "\n",
      "daily calories has:  0    False\n",
      "1    False\n",
      "2    False\n",
      "3    False\n",
      "4    False\n",
      "dtype: bool duplicate value\n",
      "\n",
      "daily intensity has:  0    False\n",
      "1    False\n",
      "2    False\n",
      "3    False\n",
      "4    False\n",
      "dtype: bool duplicate value\n",
      "\n",
      "daily steps has:  0    False\n",
      "1    False\n",
      "2    False\n",
      "3    False\n",
      "4    False\n",
      "dtype: bool duplicate value\n",
      "\n",
      "heartrate secs has:  0    False\n",
      "1    False\n",
      "2    False\n",
      "3    False\n",
      "4    False\n",
      "dtype: bool duplicate value\n",
      "\n"
     ]
    }
   ],
   "source": [
    "print(\"daily activity has: \", daily_activity.duplicated().head(),\"duplicate value\\n\")\n",
    "print(\"hourly steps has: \", hourly_steps.duplicated().head(), \"duplicate value\\n\")\n",
    "print(\"hourly calories has: \", hourly_calories.duplicated().head(), \"duplicate value\\n\")\n",
    "print(\"sleepday has: \", sleepday.duplicated().head(), \"duplicate value\\n\")\n",
    "print(\"daily calories has: \", daily_calories.duplicated().head(), \"duplicate value\\n\")\n",
    "print(\"daily intensity has: \", daily_intensity.duplicated().head(), \"duplicate value\\n\")\n",
    "print(\"daily steps has: \", daily_steps.duplicated().head(), \"duplicate value\\n\")\n",
    "print(\"heartrate secs has: \", heartrate_secs.duplicated().head(), \"duplicate value\\n\")"
   ]
  },
  {
   "cell_type": "markdown",
   "id": "b4eedafe-ed66-4edf-8020-fb480adaccaf",
   "metadata": {},
   "source": [
    "<h1 style = \"background-color:Orange; color:white\"> Key findings till now : </h1>\n",
    "From all the datasets there are some key findings that are very usefull for rest of the analysis and these findings are as follows:\n",
    "\n",
    "1. There are 3 datasets which do not have enough data for analysis like `heartrate_secs (14)`, `weight_log (8)`, `sleepday(24)` and it will be beneficial to remove these datasets, so i dropped two datasets `heartrate_secs`, `weight_log` but do not `sleepday` because it can be use in analyis as its data is more relevent.\n",
    "\n",
    "2. `daily calories`, `daily intensity`, `daily steps` are 3 datasets having exactly same data as in `daily activity` that's why i discard them.\n",
    "\n",
    "3. As for the data types, `ActivityDate` in daily_activity, `ActivityHour` in hourly_steps, `ActivityHour` in hourly_calories, and `SleepDay` in sleepday are objects instead of datetime data type. We’ll have to convert them to datetime data type for easy processing.\n",
    "\n",
    "4. And another key finding is, no duplicate value is present in datasets."
   ]
  },
  {
   "cell_type": "markdown",
   "id": "8eefbf9c-ae3e-442e-be01-a00c5fcf1693",
   "metadata": {},
   "source": [
    "#### <span style = \"color: orange\"> DATA TRANSFORMATION </span>\n"
   ]
  },
  {
   "cell_type": "code",
   "execution_count": 9,
   "id": "9ff3d298-2b91-4f55-ab5c-44785fdd2547",
   "metadata": {},
   "outputs": [
    {
     "name": "stderr",
     "output_type": "stream",
     "text": [
      "C:\\Users\\PC\\AppData\\Local\\Temp\\ipykernel_11240\\2069993614.py:2: UserWarning: Could not infer format, so each element will be parsed individually, falling back to `dateutil`. To ensure parsing is consistent and as-expected, please specify a format.\n",
      "  hourly_steps[\"ActivityHour\"] = pd.to_datetime(hourly_steps[\"ActivityHour\"])\n",
      "C:\\Users\\PC\\AppData\\Local\\Temp\\ipykernel_11240\\2069993614.py:3: UserWarning: Could not infer format, so each element will be parsed individually, falling back to `dateutil`. To ensure parsing is consistent and as-expected, please specify a format.\n",
      "  hourly_calories[\"ActivityHour\"] = pd.to_datetime(hourly_calories[\"ActivityHour\"])\n",
      "C:\\Users\\PC\\AppData\\Local\\Temp\\ipykernel_11240\\2069993614.py:4: UserWarning: Could not infer format, so each element will be parsed individually, falling back to `dateutil`. To ensure parsing is consistent and as-expected, please specify a format.\n",
      "  sleepday[\"SleepDay\"] = pd.to_datetime(sleepday[\"SleepDay\"])\n"
     ]
    }
   ],
   "source": [
    " daily_activity[\"ActivityDate\"] = pd.to_datetime(daily_activity[\"ActivityDate\"])\n",
    " hourly_steps[\"ActivityHour\"] = pd.to_datetime(hourly_steps[\"ActivityHour\"])\n",
    " hourly_calories[\"ActivityHour\"] = pd.to_datetime(hourly_calories[\"ActivityHour\"])\n",
    " sleepday[\"SleepDay\"] = pd.to_datetime(sleepday[\"SleepDay\"])\n"
   ]
  },
  {
   "cell_type": "markdown",
   "id": "392c8a4a-c8c9-4fe9-9f37-1456aa34a9ae",
   "metadata": {},
   "source": [
    "Let's check for changes in **datatypes**"
   ]
  },
  {
   "cell_type": "code",
   "execution_count": 10,
   "id": "587f2abe-62e9-40da-b42c-d0f71f598938",
   "metadata": {},
   "outputs": [
    {
     "name": "stdout",
     "output_type": "stream",
     "text": [
      "Data type of ActivityDate in daily_activity is datetime64[ns]\n",
      "Data type of ActivityHour in hourly_steps is datetime64[ns]\n",
      "Data type of ActivityHour in hourly_calories is datetime64[ns]\n",
      "Data type of Sleepday in sleepday is datetime64[ns]\n"
     ]
    }
   ],
   "source": [
    "print(\"Data type of ActivityDate in daily_activity is\", daily_activity[\"ActivityDate\"].dtypes)\n",
    "print(\"Data type of ActivityHour in hourly_steps is\", hourly_steps[\"ActivityHour\"].dtypes)\n",
    "print(\"Data type of ActivityHour in hourly_calories is\", hourly_calories[\"ActivityHour\"].dtypes)\n",
    "print(\"Data type of Sleepday in sleepday is\", sleepday[\"SleepDay\"].dtypes)\n"
   ]
  },
  {
   "cell_type": "markdown",
   "id": "daccf2ad-f5c5-4dd6-a681-e8f2a6a8e1a3",
   "metadata": {},
   "source": [
    "Now it's time to merge both datasets `hourly_steps` and `hourly_calories`."
   ]
  },
  {
   "cell_type": "code",
   "execution_count": 11,
   "id": "78bf2142-35f4-4e4a-bd36-c709c93bbf78",
   "metadata": {},
   "outputs": [
    {
     "name": "stdout",
     "output_type": "stream",
     "text": [
      "Id\n",
      "ActivityHour\n",
      "StepTotal\n"
     ]
    }
   ],
   "source": [
    "for col in hourly_steps:\n",
    "    print(col)"
   ]
  },
  {
   "cell_type": "code",
   "execution_count": 12,
   "id": "5c94cccd-0073-4dc7-b7a3-a1dd8023f29a",
   "metadata": {},
   "outputs": [
    {
     "name": "stdout",
     "output_type": "stream",
     "text": [
      "Id\n",
      "ActivityHour\n",
      "Calories\n"
     ]
    }
   ],
   "source": [
    "for col in hourly_calories:\n",
    "    print(col)"
   ]
  },
  {
   "cell_type": "code",
   "execution_count": 13,
   "id": "da517aa3-e6cd-407a-8406-f175d6645d0d",
   "metadata": {},
   "outputs": [
    {
     "data": {
      "text/html": [
       "<div>\n",
       "<style scoped>\n",
       "    .dataframe tbody tr th:only-of-type {\n",
       "        vertical-align: middle;\n",
       "    }\n",
       "\n",
       "    .dataframe tbody tr th {\n",
       "        vertical-align: top;\n",
       "    }\n",
       "\n",
       "    .dataframe thead th {\n",
       "        text-align: right;\n",
       "    }\n",
       "</style>\n",
       "<table border=\"1\" class=\"dataframe\">\n",
       "  <thead>\n",
       "    <tr style=\"text-align: right;\">\n",
       "      <th></th>\n",
       "      <th>Id</th>\n",
       "      <th>ActivityHour</th>\n",
       "      <th>StepTotal</th>\n",
       "      <th>Calories</th>\n",
       "    </tr>\n",
       "  </thead>\n",
       "  <tbody>\n",
       "    <tr>\n",
       "      <th>0</th>\n",
       "      <td>1503960366</td>\n",
       "      <td>2016-04-12 00:00:00</td>\n",
       "      <td>373</td>\n",
       "      <td>81</td>\n",
       "    </tr>\n",
       "    <tr>\n",
       "      <th>1</th>\n",
       "      <td>1503960366</td>\n",
       "      <td>2016-04-12 01:00:00</td>\n",
       "      <td>160</td>\n",
       "      <td>61</td>\n",
       "    </tr>\n",
       "    <tr>\n",
       "      <th>2</th>\n",
       "      <td>1503960366</td>\n",
       "      <td>2016-04-12 02:00:00</td>\n",
       "      <td>151</td>\n",
       "      <td>59</td>\n",
       "    </tr>\n",
       "    <tr>\n",
       "      <th>3</th>\n",
       "      <td>1503960366</td>\n",
       "      <td>2016-04-12 03:00:00</td>\n",
       "      <td>0</td>\n",
       "      <td>47</td>\n",
       "    </tr>\n",
       "    <tr>\n",
       "      <th>4</th>\n",
       "      <td>1503960366</td>\n",
       "      <td>2016-04-12 04:00:00</td>\n",
       "      <td>0</td>\n",
       "      <td>48</td>\n",
       "    </tr>\n",
       "  </tbody>\n",
       "</table>\n",
       "</div>"
      ],
      "text/plain": [
       "           Id        ActivityHour  StepTotal  Calories\n",
       "0  1503960366 2016-04-12 00:00:00        373        81\n",
       "1  1503960366 2016-04-12 01:00:00        160        61\n",
       "2  1503960366 2016-04-12 02:00:00        151        59\n",
       "3  1503960366 2016-04-12 03:00:00          0        47\n",
       "4  1503960366 2016-04-12 04:00:00          0        48"
      ]
     },
     "execution_count": 13,
     "metadata": {},
     "output_type": "execute_result"
    }
   ],
   "source": [
    "merged_df = pd.merge(hourly_steps, hourly_calories, on=['Id', 'ActivityHour'], how='inner') \n",
    "merged_df.head()"
   ]
  },
  {
   "cell_type": "markdown",
   "id": "9d024236-5ea9-40df-b395-ad12fafad35b",
   "metadata": {},
   "source": [
    "Above we can see that **Id** and **ActivityHour** both are common in `hourly_steps` and `hourly_calories` so we merged them on behalf of these columns."
   ]
  },
  {
   "cell_type": "code",
   "execution_count": 14,
   "id": "2656ecb0-182b-4c95-991f-8186b2e45194",
   "metadata": {},
   "outputs": [],
   "source": [
    "daily_activity[\"weekday\"] = daily_activity[\"ActivityDate\"].dt.day_name()\n",
    "merged_df[\"weekday\"] = merged_df[\"ActivityHour\"].dt.day_name()\n",
    "sleepday[\"weekday\"] = sleepday[\"SleepDay\"].dt.day_name()\n"
   ]
  },
  {
   "cell_type": "code",
   "execution_count": 15,
   "id": "e6350af1-e162-4af9-91f9-fcc5da48c540",
   "metadata": {},
   "outputs": [],
   "source": [
    "merged_df[\"DateHour\"] = merged_df[\"ActivityHour\"].dt.hour\n"
   ]
  },
  {
   "cell_type": "code",
   "execution_count": 16,
   "id": "6e548fea-1da6-47cc-b384-42e5e28e3e07",
   "metadata": {},
   "outputs": [],
   "source": [
    "merged_df[\"ActivityDay\"] = merged_df[\"ActivityHour\"].dt.date\n"
   ]
  },
  {
   "cell_type": "markdown",
   "id": "813fd76a-543f-413d-9cb5-959f32293eb4",
   "metadata": {},
   "source": [
    "Now we can drop the column **ActivityHour** after creating new relevent columns."
   ]
  },
  {
   "cell_type": "code",
   "execution_count": 17,
   "id": "c2c8b3e9-7e01-4305-a288-c655ad4af9ef",
   "metadata": {},
   "outputs": [
    {
     "data": {
      "text/html": [
       "<div>\n",
       "<style scoped>\n",
       "    .dataframe tbody tr th:only-of-type {\n",
       "        vertical-align: middle;\n",
       "    }\n",
       "\n",
       "    .dataframe tbody tr th {\n",
       "        vertical-align: top;\n",
       "    }\n",
       "\n",
       "    .dataframe thead th {\n",
       "        text-align: right;\n",
       "    }\n",
       "</style>\n",
       "<table border=\"1\" class=\"dataframe\">\n",
       "  <thead>\n",
       "    <tr style=\"text-align: right;\">\n",
       "      <th></th>\n",
       "      <th>Id</th>\n",
       "      <th>StepTotal</th>\n",
       "      <th>Calories</th>\n",
       "      <th>weekday</th>\n",
       "      <th>DateHour</th>\n",
       "      <th>ActivityDay</th>\n",
       "    </tr>\n",
       "  </thead>\n",
       "  <tbody>\n",
       "    <tr>\n",
       "      <th>0</th>\n",
       "      <td>1503960366</td>\n",
       "      <td>373</td>\n",
       "      <td>81</td>\n",
       "      <td>Tuesday</td>\n",
       "      <td>0</td>\n",
       "      <td>2016-04-12</td>\n",
       "    </tr>\n",
       "    <tr>\n",
       "      <th>1</th>\n",
       "      <td>1503960366</td>\n",
       "      <td>160</td>\n",
       "      <td>61</td>\n",
       "      <td>Tuesday</td>\n",
       "      <td>1</td>\n",
       "      <td>2016-04-12</td>\n",
       "    </tr>\n",
       "    <tr>\n",
       "      <th>2</th>\n",
       "      <td>1503960366</td>\n",
       "      <td>151</td>\n",
       "      <td>59</td>\n",
       "      <td>Tuesday</td>\n",
       "      <td>2</td>\n",
       "      <td>2016-04-12</td>\n",
       "    </tr>\n",
       "    <tr>\n",
       "      <th>3</th>\n",
       "      <td>1503960366</td>\n",
       "      <td>0</td>\n",
       "      <td>47</td>\n",
       "      <td>Tuesday</td>\n",
       "      <td>3</td>\n",
       "      <td>2016-04-12</td>\n",
       "    </tr>\n",
       "    <tr>\n",
       "      <th>4</th>\n",
       "      <td>1503960366</td>\n",
       "      <td>0</td>\n",
       "      <td>48</td>\n",
       "      <td>Tuesday</td>\n",
       "      <td>4</td>\n",
       "      <td>2016-04-12</td>\n",
       "    </tr>\n",
       "  </tbody>\n",
       "</table>\n",
       "</div>"
      ],
      "text/plain": [
       "           Id  StepTotal  Calories  weekday  DateHour ActivityDay\n",
       "0  1503960366        373        81  Tuesday         0  2016-04-12\n",
       "1  1503960366        160        61  Tuesday         1  2016-04-12\n",
       "2  1503960366        151        59  Tuesday         2  2016-04-12\n",
       "3  1503960366          0        47  Tuesday         3  2016-04-12\n",
       "4  1503960366          0        48  Tuesday         4  2016-04-12"
      ]
     },
     "execution_count": 17,
     "metadata": {},
     "output_type": "execute_result"
    }
   ],
   "source": [
    "merged_df = merged_df.drop(\"ActivityHour\", axis = 1)\n",
    "merged_df.head()"
   ]
  },
  {
   "cell_type": "markdown",
   "id": "0d9ae964-cdd5-4f7b-abba-e790d68ac98d",
   "metadata": {},
   "source": [
    "Column **ActivityDay** is in object data type so change it to datetime data type here."
   ]
  },
  {
   "cell_type": "code",
   "execution_count": 18,
   "id": "bd1ff6ac-c494-49c4-bed4-1130c1c8aae4",
   "metadata": {},
   "outputs": [
    {
     "data": {
      "text/html": [
       "<div>\n",
       "<style scoped>\n",
       "    .dataframe tbody tr th:only-of-type {\n",
       "        vertical-align: middle;\n",
       "    }\n",
       "\n",
       "    .dataframe tbody tr th {\n",
       "        vertical-align: top;\n",
       "    }\n",
       "\n",
       "    .dataframe thead th {\n",
       "        text-align: right;\n",
       "    }\n",
       "</style>\n",
       "<table border=\"1\" class=\"dataframe\">\n",
       "  <thead>\n",
       "    <tr style=\"text-align: right;\">\n",
       "      <th></th>\n",
       "      <th>Id</th>\n",
       "      <th>StepTotal</th>\n",
       "      <th>Calories</th>\n",
       "      <th>weekday</th>\n",
       "      <th>DateHour</th>\n",
       "      <th>ActivityDay</th>\n",
       "    </tr>\n",
       "  </thead>\n",
       "  <tbody>\n",
       "    <tr>\n",
       "      <th>0</th>\n",
       "      <td>1503960366</td>\n",
       "      <td>373</td>\n",
       "      <td>81</td>\n",
       "      <td>Tuesday</td>\n",
       "      <td>0</td>\n",
       "      <td>2016-04-12</td>\n",
       "    </tr>\n",
       "    <tr>\n",
       "      <th>1</th>\n",
       "      <td>1503960366</td>\n",
       "      <td>160</td>\n",
       "      <td>61</td>\n",
       "      <td>Tuesday</td>\n",
       "      <td>1</td>\n",
       "      <td>2016-04-12</td>\n",
       "    </tr>\n",
       "    <tr>\n",
       "      <th>2</th>\n",
       "      <td>1503960366</td>\n",
       "      <td>151</td>\n",
       "      <td>59</td>\n",
       "      <td>Tuesday</td>\n",
       "      <td>2</td>\n",
       "      <td>2016-04-12</td>\n",
       "    </tr>\n",
       "    <tr>\n",
       "      <th>3</th>\n",
       "      <td>1503960366</td>\n",
       "      <td>0</td>\n",
       "      <td>47</td>\n",
       "      <td>Tuesday</td>\n",
       "      <td>3</td>\n",
       "      <td>2016-04-12</td>\n",
       "    </tr>\n",
       "    <tr>\n",
       "      <th>4</th>\n",
       "      <td>1503960366</td>\n",
       "      <td>0</td>\n",
       "      <td>48</td>\n",
       "      <td>Tuesday</td>\n",
       "      <td>4</td>\n",
       "      <td>2016-04-12</td>\n",
       "    </tr>\n",
       "  </tbody>\n",
       "</table>\n",
       "</div>"
      ],
      "text/plain": [
       "           Id  StepTotal  Calories  weekday  DateHour ActivityDay\n",
       "0  1503960366        373        81  Tuesday         0  2016-04-12\n",
       "1  1503960366        160        61  Tuesday         1  2016-04-12\n",
       "2  1503960366        151        59  Tuesday         2  2016-04-12\n",
       "3  1503960366          0        47  Tuesday         3  2016-04-12\n",
       "4  1503960366          0        48  Tuesday         4  2016-04-12"
      ]
     },
     "execution_count": 18,
     "metadata": {},
     "output_type": "execute_result"
    }
   ],
   "source": [
    "merged_df[\"ActivityDay\"] = pd.to_datetime(merged_df[\"ActivityDay\"])\n",
    "merged_df.head()"
   ]
  },
  {
   "cell_type": "markdown",
   "id": "bc3e4203-c29a-4454-912d-dc2c33da112c",
   "metadata": {},
   "source": [
    "Next, we're going to merge sleepday with merge_df to create a new dataframe that contains sleepday record with calories for some analysis. Hence, before we do, let's change the column name SleepDay in sleepday df, so it matches ActivityDay in merge_df."
   ]
  },
  {
   "cell_type": "code",
   "execution_count": 23,
   "id": "ed89363f-d6e1-41c1-9ddf-ee4a8b3be810",
   "metadata": {},
   "outputs": [
    {
     "data": {
      "text/html": [
       "<div>\n",
       "<style scoped>\n",
       "    .dataframe tbody tr th:only-of-type {\n",
       "        vertical-align: middle;\n",
       "    }\n",
       "\n",
       "    .dataframe tbody tr th {\n",
       "        vertical-align: top;\n",
       "    }\n",
       "\n",
       "    .dataframe thead th {\n",
       "        text-align: right;\n",
       "    }\n",
       "</style>\n",
       "<table border=\"1\" class=\"dataframe\">\n",
       "  <thead>\n",
       "    <tr style=\"text-align: right;\">\n",
       "      <th></th>\n",
       "      <th>Id</th>\n",
       "      <th>ActivityDay</th>\n",
       "      <th>TotalSleepRecords</th>\n",
       "      <th>TotalMinutesAsleep</th>\n",
       "      <th>TotalTimeInBed</th>\n",
       "      <th>weekday</th>\n",
       "    </tr>\n",
       "  </thead>\n",
       "  <tbody>\n",
       "    <tr>\n",
       "      <th>0</th>\n",
       "      <td>1503960366</td>\n",
       "      <td>2016-04-12</td>\n",
       "      <td>1</td>\n",
       "      <td>327</td>\n",
       "      <td>346</td>\n",
       "      <td>Tuesday</td>\n",
       "    </tr>\n",
       "    <tr>\n",
       "      <th>1</th>\n",
       "      <td>1503960366</td>\n",
       "      <td>2016-04-13</td>\n",
       "      <td>2</td>\n",
       "      <td>384</td>\n",
       "      <td>407</td>\n",
       "      <td>Wednesday</td>\n",
       "    </tr>\n",
       "    <tr>\n",
       "      <th>2</th>\n",
       "      <td>1503960366</td>\n",
       "      <td>2016-04-15</td>\n",
       "      <td>1</td>\n",
       "      <td>412</td>\n",
       "      <td>442</td>\n",
       "      <td>Friday</td>\n",
       "    </tr>\n",
       "    <tr>\n",
       "      <th>3</th>\n",
       "      <td>1503960366</td>\n",
       "      <td>2016-04-16</td>\n",
       "      <td>2</td>\n",
       "      <td>340</td>\n",
       "      <td>367</td>\n",
       "      <td>Saturday</td>\n",
       "    </tr>\n",
       "    <tr>\n",
       "      <th>4</th>\n",
       "      <td>1503960366</td>\n",
       "      <td>2016-04-17</td>\n",
       "      <td>1</td>\n",
       "      <td>700</td>\n",
       "      <td>712</td>\n",
       "      <td>Sunday</td>\n",
       "    </tr>\n",
       "  </tbody>\n",
       "</table>\n",
       "</div>"
      ],
      "text/plain": [
       "           Id ActivityDay  TotalSleepRecords  TotalMinutesAsleep  \\\n",
       "0  1503960366  2016-04-12                  1                 327   \n",
       "1  1503960366  2016-04-13                  2                 384   \n",
       "2  1503960366  2016-04-15                  1                 412   \n",
       "3  1503960366  2016-04-16                  2                 340   \n",
       "4  1503960366  2016-04-17                  1                 700   \n",
       "\n",
       "   TotalTimeInBed    weekday  \n",
       "0             346    Tuesday  \n",
       "1             407  Wednesday  \n",
       "2             442     Friday  \n",
       "3             367   Saturday  \n",
       "4             712     Sunday  "
      ]
     },
     "execution_count": 23,
     "metadata": {},
     "output_type": "execute_result"
    }
   ],
   "source": [
    "sleepday = sleepday.rename(columns={'SleepDay': 'ActivityDay'})\n",
    "sleepday.head()"
   ]
  },
  {
   "cell_type": "markdown",
   "id": "4085043c-e0b4-4f71-9a17-ad4ac20793be",
   "metadata": {},
   "source": [
    "Now, let's merge both sleepday and merged_df"
   ]
  },
  {
   "cell_type": "code",
   "execution_count": 24,
   "id": "ee69fd34-d9e2-4d49-94f6-218cbbecd80c",
   "metadata": {},
   "outputs": [
    {
     "name": "stdout",
     "output_type": "stream",
     "text": [
      "Index(['Id', 'StepTotal', 'Calories', 'weekday', 'DateHour', 'ActivityDay'], dtype='object')\n",
      "Index(['Id', 'ActivityDay', 'TotalSleepRecords', 'TotalMinutesAsleep',\n",
      "       'TotalTimeInBed', 'weekday'],\n",
      "      dtype='object')\n"
     ]
    }
   ],
   "source": [
    "for col in merged_df.columns, sleepday.columns:\n",
    "    print (col)"
   ]
  },
  {
   "cell_type": "code",
   "execution_count": 69,
   "id": "723c079f-4519-4e7b-a619-419867f1961c",
   "metadata": {},
   "outputs": [
    {
     "data": {
      "text/html": [
       "<div>\n",
       "<style scoped>\n",
       "    .dataframe tbody tr th:only-of-type {\n",
       "        vertical-align: middle;\n",
       "    }\n",
       "\n",
       "    .dataframe tbody tr th {\n",
       "        vertical-align: top;\n",
       "    }\n",
       "\n",
       "    .dataframe thead th {\n",
       "        text-align: right;\n",
       "    }\n",
       "</style>\n",
       "<table border=\"1\" class=\"dataframe\">\n",
       "  <thead>\n",
       "    <tr style=\"text-align: right;\">\n",
       "      <th></th>\n",
       "      <th>Id</th>\n",
       "      <th>StepTotal</th>\n",
       "      <th>Calories</th>\n",
       "      <th>weekday</th>\n",
       "      <th>DateHour</th>\n",
       "      <th>ActivityDay</th>\n",
       "      <th>TotalSleepRecords</th>\n",
       "      <th>TotalMinutesAsleep</th>\n",
       "      <th>TotalTimeInBed</th>\n",
       "    </tr>\n",
       "  </thead>\n",
       "  <tbody>\n",
       "    <tr>\n",
       "      <th>0</th>\n",
       "      <td>1503960366</td>\n",
       "      <td>373</td>\n",
       "      <td>81</td>\n",
       "      <td>Tuesday</td>\n",
       "      <td>0</td>\n",
       "      <td>2016-04-12</td>\n",
       "      <td>1</td>\n",
       "      <td>327</td>\n",
       "      <td>346</td>\n",
       "    </tr>\n",
       "    <tr>\n",
       "      <th>1</th>\n",
       "      <td>1503960366</td>\n",
       "      <td>160</td>\n",
       "      <td>61</td>\n",
       "      <td>Tuesday</td>\n",
       "      <td>1</td>\n",
       "      <td>2016-04-12</td>\n",
       "      <td>1</td>\n",
       "      <td>327</td>\n",
       "      <td>346</td>\n",
       "    </tr>\n",
       "    <tr>\n",
       "      <th>2</th>\n",
       "      <td>1503960366</td>\n",
       "      <td>151</td>\n",
       "      <td>59</td>\n",
       "      <td>Tuesday</td>\n",
       "      <td>2</td>\n",
       "      <td>2016-04-12</td>\n",
       "      <td>1</td>\n",
       "      <td>327</td>\n",
       "      <td>346</td>\n",
       "    </tr>\n",
       "    <tr>\n",
       "      <th>3</th>\n",
       "      <td>1503960366</td>\n",
       "      <td>0</td>\n",
       "      <td>47</td>\n",
       "      <td>Tuesday</td>\n",
       "      <td>3</td>\n",
       "      <td>2016-04-12</td>\n",
       "      <td>1</td>\n",
       "      <td>327</td>\n",
       "      <td>346</td>\n",
       "    </tr>\n",
       "    <tr>\n",
       "      <th>4</th>\n",
       "      <td>1503960366</td>\n",
       "      <td>0</td>\n",
       "      <td>48</td>\n",
       "      <td>Tuesday</td>\n",
       "      <td>4</td>\n",
       "      <td>2016-04-12</td>\n",
       "      <td>1</td>\n",
       "      <td>327</td>\n",
       "      <td>346</td>\n",
       "    </tr>\n",
       "  </tbody>\n",
       "</table>\n",
       "</div>"
      ],
      "text/plain": [
       "           Id  StepTotal  Calories  weekday  DateHour ActivityDay  \\\n",
       "0  1503960366        373        81  Tuesday         0  2016-04-12   \n",
       "1  1503960366        160        61  Tuesday         1  2016-04-12   \n",
       "2  1503960366        151        59  Tuesday         2  2016-04-12   \n",
       "3  1503960366          0        47  Tuesday         3  2016-04-12   \n",
       "4  1503960366          0        48  Tuesday         4  2016-04-12   \n",
       "\n",
       "   TotalSleepRecords  TotalMinutesAsleep  TotalTimeInBed  \n",
       "0                  1                 327             346  \n",
       "1                  1                 327             346  \n",
       "2                  1                 327             346  \n",
       "3                  1                 327             346  \n",
       "4                  1                 327             346  "
      ]
     },
     "execution_count": 69,
     "metadata": {},
     "output_type": "execute_result"
    }
   ],
   "source": [
    "merged_df1 = pd.merge(merged_df, sleepday, on = [\"Id\", \"ActivityDay\", \"weekday\"], how = 'inner')\n",
    "merged_df1.head()\n"
   ]
  },
  {
   "cell_type": "code",
   "execution_count": 26,
   "id": "bd1af88b-333a-451a-bf72-c40ab8a28bf0",
   "metadata": {},
   "outputs": [
    {
     "data": {
      "text/html": [
       "<div>\n",
       "<style scoped>\n",
       "    .dataframe tbody tr th:only-of-type {\n",
       "        vertical-align: middle;\n",
       "    }\n",
       "\n",
       "    .dataframe tbody tr th {\n",
       "        vertical-align: top;\n",
       "    }\n",
       "\n",
       "    .dataframe thead th {\n",
       "        text-align: right;\n",
       "    }\n",
       "</style>\n",
       "<table border=\"1\" class=\"dataframe\">\n",
       "  <thead>\n",
       "    <tr style=\"text-align: right;\">\n",
       "      <th></th>\n",
       "      <th>Id</th>\n",
       "      <th>StepTotal</th>\n",
       "      <th>Calories</th>\n",
       "      <th>weekday</th>\n",
       "      <th>DateHour</th>\n",
       "      <th>ActivityDay</th>\n",
       "      <th>TotalSleepRecords</th>\n",
       "      <th>TotalMinutesAsleep</th>\n",
       "      <th>TotalTimeInBed</th>\n",
       "    </tr>\n",
       "  </thead>\n",
       "  <tbody>\n",
       "    <tr>\n",
       "      <th>9766</th>\n",
       "      <td>8792009665</td>\n",
       "      <td>8</td>\n",
       "      <td>74</td>\n",
       "      <td>Wednesday</td>\n",
       "      <td>19</td>\n",
       "      <td>2016-05-04</td>\n",
       "      <td>1</td>\n",
       "      <td>439</td>\n",
       "      <td>463</td>\n",
       "    </tr>\n",
       "    <tr>\n",
       "      <th>9767</th>\n",
       "      <td>8792009665</td>\n",
       "      <td>132</td>\n",
       "      <td>91</td>\n",
       "      <td>Wednesday</td>\n",
       "      <td>20</td>\n",
       "      <td>2016-05-04</td>\n",
       "      <td>1</td>\n",
       "      <td>439</td>\n",
       "      <td>463</td>\n",
       "    </tr>\n",
       "    <tr>\n",
       "      <th>9768</th>\n",
       "      <td>8792009665</td>\n",
       "      <td>0</td>\n",
       "      <td>71</td>\n",
       "      <td>Wednesday</td>\n",
       "      <td>21</td>\n",
       "      <td>2016-05-04</td>\n",
       "      <td>1</td>\n",
       "      <td>439</td>\n",
       "      <td>463</td>\n",
       "    </tr>\n",
       "    <tr>\n",
       "      <th>9769</th>\n",
       "      <td>8792009665</td>\n",
       "      <td>0</td>\n",
       "      <td>70</td>\n",
       "      <td>Wednesday</td>\n",
       "      <td>22</td>\n",
       "      <td>2016-05-04</td>\n",
       "      <td>1</td>\n",
       "      <td>439</td>\n",
       "      <td>463</td>\n",
       "    </tr>\n",
       "    <tr>\n",
       "      <th>9770</th>\n",
       "      <td>8792009665</td>\n",
       "      <td>0</td>\n",
       "      <td>70</td>\n",
       "      <td>Wednesday</td>\n",
       "      <td>23</td>\n",
       "      <td>2016-05-04</td>\n",
       "      <td>1</td>\n",
       "      <td>439</td>\n",
       "      <td>463</td>\n",
       "    </tr>\n",
       "  </tbody>\n",
       "</table>\n",
       "</div>"
      ],
      "text/plain": [
       "              Id  StepTotal  Calories    weekday  DateHour ActivityDay  \\\n",
       "9766  8792009665          8        74  Wednesday        19  2016-05-04   \n",
       "9767  8792009665        132        91  Wednesday        20  2016-05-04   \n",
       "9768  8792009665          0        71  Wednesday        21  2016-05-04   \n",
       "9769  8792009665          0        70  Wednesday        22  2016-05-04   \n",
       "9770  8792009665          0        70  Wednesday        23  2016-05-04   \n",
       "\n",
       "      TotalSleepRecords  TotalMinutesAsleep  TotalTimeInBed  \n",
       "9766                  1                 439             463  \n",
       "9767                  1                 439             463  \n",
       "9768                  1                 439             463  \n",
       "9769                  1                 439             463  \n",
       "9770                  1                 439             463  "
      ]
     },
     "execution_count": 26,
     "metadata": {},
     "output_type": "execute_result"
    }
   ],
   "source": [
    "merged_df1.tail()"
   ]
  },
  {
   "cell_type": "markdown",
   "id": "6ce16ad6-2d52-45e1-89a2-65b6484a1e23",
   "metadata": {},
   "source": [
    "Now check for the missing values and unique users in newly formed dataframe i.e., `merged_df1`"
   ]
  },
  {
   "cell_type": "code",
   "execution_count": 83,
   "id": "e4bfe0dc-f897-4372-bcab-25296ff43a87",
   "metadata": {},
   "outputs": [
    {
     "name": "stdout",
     "output_type": "stream",
     "text": [
      "merged_df1 has 24 unique users\n",
      "merged_df1 contain 0 missing values\n"
     ]
    }
   ],
   "source": [
    "print(\"merged_df1 has\", merged_df1.Id.nunique(), \"unique users\")\n",
    "print(\"merged_df1 contain\", merged_df1.isnull().values.sum(), \"missing values\")"
   ]
  },
  {
   "cell_type": "markdown",
   "id": "96eaa1a1-aa46-43c8-b521-80a599a06161",
   "metadata": {},
   "source": [
    "Here I did some changes in column names for ease in understanding insights. "
   ]
  },
  {
   "cell_type": "code",
   "execution_count": 31,
   "id": "f6469b4e-fe07-4550-a5ac-87c13941fa3f",
   "metadata": {},
   "outputs": [],
   "source": [
    "new_cols = [\"Id\", \"ActivityDate\", \n",
    "            \"weekday\", \"TotalSteps\", \n",
    "            \"TotalDistance\", \"VeryActiveDistance\", \n",
    "            \"ModeratelyActiveDistance\", \"LightActiveDistance\", \n",
    "            \"SedentaryActiveDistance\", \"VeryActiveMinutes\", \n",
    "            \"FairlyActiveMinutes\", \"LightlyActiveMinutes\", \n",
    "            \"SedentaryMinutes\", \"TotalActiveMinutes\", \n",
    "            \"TotalMinutes\", \"TotalActiveHours\", \"Calories\"]\n",
    "\n",
    "daily_activity = daily_activity.reindex(columns=new_cols)"
   ]
  },
  {
   "cell_type": "code",
   "execution_count": 32,
   "id": "54423bba-f1f9-499f-9aa2-ec2d882f013d",
   "metadata": {},
   "outputs": [
    {
     "data": {
      "text/html": [
       "<div>\n",
       "<style scoped>\n",
       "    .dataframe tbody tr th:only-of-type {\n",
       "        vertical-align: middle;\n",
       "    }\n",
       "\n",
       "    .dataframe tbody tr th {\n",
       "        vertical-align: top;\n",
       "    }\n",
       "\n",
       "    .dataframe thead th {\n",
       "        text-align: right;\n",
       "    }\n",
       "</style>\n",
       "<table border=\"1\" class=\"dataframe\">\n",
       "  <thead>\n",
       "    <tr style=\"text-align: right;\">\n",
       "      <th></th>\n",
       "      <th>TotalActiveMinutes</th>\n",
       "      <th>TotalMinutes</th>\n",
       "      <th>TotalActiveHours</th>\n",
       "    </tr>\n",
       "  </thead>\n",
       "  <tbody>\n",
       "    <tr>\n",
       "      <th>0</th>\n",
       "      <td>NaN</td>\n",
       "      <td>NaN</td>\n",
       "      <td>NaN</td>\n",
       "    </tr>\n",
       "    <tr>\n",
       "      <th>1</th>\n",
       "      <td>NaN</td>\n",
       "      <td>NaN</td>\n",
       "      <td>NaN</td>\n",
       "    </tr>\n",
       "    <tr>\n",
       "      <th>2</th>\n",
       "      <td>NaN</td>\n",
       "      <td>NaN</td>\n",
       "      <td>NaN</td>\n",
       "    </tr>\n",
       "    <tr>\n",
       "      <th>3</th>\n",
       "      <td>NaN</td>\n",
       "      <td>NaN</td>\n",
       "      <td>NaN</td>\n",
       "    </tr>\n",
       "    <tr>\n",
       "      <th>4</th>\n",
       "      <td>NaN</td>\n",
       "      <td>NaN</td>\n",
       "      <td>NaN</td>\n",
       "    </tr>\n",
       "  </tbody>\n",
       "</table>\n",
       "</div>"
      ],
      "text/plain": [
       "   TotalActiveMinutes  TotalMinutes  TotalActiveHours\n",
       "0                 NaN           NaN               NaN\n",
       "1                 NaN           NaN               NaN\n",
       "2                 NaN           NaN               NaN\n",
       "3                 NaN           NaN               NaN\n",
       "4                 NaN           NaN               NaN"
      ]
     },
     "execution_count": 32,
     "metadata": {},
     "output_type": "execute_result"
    }
   ],
   "source": [
    "daily_activity[[\"TotalActiveMinutes\",\n",
    "                \"TotalMinutes\", \"TotalActiveHours\"]].head()"
   ]
  },
  {
   "cell_type": "markdown",
   "id": "e68ed352-6b73-4728-a3b7-88706600649a",
   "metadata": {},
   "source": [
    "Here some columns are created but they do not contain any value so add values to them accordingly. In this dataframe 3 columns `veryActiveMinutes`, `FairlyActiveMinutes`, `LightlyActiveMinutes` contains minutes in which users are Active, so that's why i am going to add them in a single column `TotalActiveMinutes`."
   ]
  },
  {
   "cell_type": "code",
   "execution_count": 33,
   "id": "122b3c6b-29c7-46a5-bab4-8511147ad9f2",
   "metadata": {},
   "outputs": [],
   "source": [
    "daily_activity[\"TotalActiveMinutes\"] = daily_activity[\"VeryActiveMinutes\"] + daily_activity[\"FairlyActiveMinutes\"] + daily_activity[\"LightlyActiveMinutes\"]\n",
    "daily_activity[\"TotalMinutes\"] = daily_activity[\"TotalActiveMinutes\"] + daily_activity[\"SedentaryMinutes\"]\n",
    "daily_activity[\"TotalActiveHours\"] = round(daily_activity[\"TotalActiveMinutes\"] / 60)"
   ]
  },
  {
   "cell_type": "code",
   "execution_count": 34,
   "id": "661e56c2-6cb2-47a2-9324-507955fd6a54",
   "metadata": {},
   "outputs": [
    {
     "data": {
      "text/html": [
       "<div>\n",
       "<style scoped>\n",
       "    .dataframe tbody tr th:only-of-type {\n",
       "        vertical-align: middle;\n",
       "    }\n",
       "\n",
       "    .dataframe tbody tr th {\n",
       "        vertical-align: top;\n",
       "    }\n",
       "\n",
       "    .dataframe thead th {\n",
       "        text-align: right;\n",
       "    }\n",
       "</style>\n",
       "<table border=\"1\" class=\"dataframe\">\n",
       "  <thead>\n",
       "    <tr style=\"text-align: right;\">\n",
       "      <th></th>\n",
       "      <th>TotalActiveMinutes</th>\n",
       "      <th>TotalMinutes</th>\n",
       "      <th>TotalActiveHours</th>\n",
       "    </tr>\n",
       "  </thead>\n",
       "  <tbody>\n",
       "    <tr>\n",
       "      <th>0</th>\n",
       "      <td>366</td>\n",
       "      <td>1094</td>\n",
       "      <td>6.0</td>\n",
       "    </tr>\n",
       "    <tr>\n",
       "      <th>1</th>\n",
       "      <td>257</td>\n",
       "      <td>1033</td>\n",
       "      <td>4.0</td>\n",
       "    </tr>\n",
       "    <tr>\n",
       "      <th>2</th>\n",
       "      <td>222</td>\n",
       "      <td>1440</td>\n",
       "      <td>4.0</td>\n",
       "    </tr>\n",
       "    <tr>\n",
       "      <th>3</th>\n",
       "      <td>272</td>\n",
       "      <td>998</td>\n",
       "      <td>5.0</td>\n",
       "    </tr>\n",
       "    <tr>\n",
       "      <th>4</th>\n",
       "      <td>267</td>\n",
       "      <td>1040</td>\n",
       "      <td>4.0</td>\n",
       "    </tr>\n",
       "  </tbody>\n",
       "</table>\n",
       "</div>"
      ],
      "text/plain": [
       "   TotalActiveMinutes  TotalMinutes  TotalActiveHours\n",
       "0                 366          1094               6.0\n",
       "1                 257          1033               4.0\n",
       "2                 222          1440               4.0\n",
       "3                 272           998               5.0\n",
       "4                 267          1040               4.0"
      ]
     },
     "execution_count": 34,
     "metadata": {},
     "output_type": "execute_result"
    }
   ],
   "source": [
    "daily_activity[[\"TotalActiveMinutes\", \"TotalMinutes\", \"TotalActiveHours\"]].head()\n"
   ]
  },
  {
   "cell_type": "code",
   "execution_count": 35,
   "id": "632e8ddc-9645-46e3-9262-1378f28893b1",
   "metadata": {},
   "outputs": [
    {
     "data": {
      "text/html": [
       "<div>\n",
       "<style scoped>\n",
       "    .dataframe tbody tr th:only-of-type {\n",
       "        vertical-align: middle;\n",
       "    }\n",
       "\n",
       "    .dataframe tbody tr th {\n",
       "        vertical-align: top;\n",
       "    }\n",
       "\n",
       "    .dataframe thead th {\n",
       "        text-align: right;\n",
       "    }\n",
       "</style>\n",
       "<table border=\"1\" class=\"dataframe\">\n",
       "  <thead>\n",
       "    <tr style=\"text-align: right;\">\n",
       "      <th></th>\n",
       "      <th>Id</th>\n",
       "      <th>ActivityDate</th>\n",
       "      <th>weekday</th>\n",
       "      <th>TotalSteps</th>\n",
       "      <th>TotalDistance</th>\n",
       "      <th>VeryActiveDistance</th>\n",
       "      <th>ModeratelyActiveDistance</th>\n",
       "      <th>LightActiveDistance</th>\n",
       "      <th>SedentaryActiveDistance</th>\n",
       "      <th>VeryActiveMinutes</th>\n",
       "      <th>FairlyActiveMinutes</th>\n",
       "      <th>LightlyActiveMinutes</th>\n",
       "      <th>SedentaryMinutes</th>\n",
       "      <th>TotalActiveMinutes</th>\n",
       "      <th>TotalMinutes</th>\n",
       "      <th>TotalActiveHours</th>\n",
       "      <th>Calories</th>\n",
       "    </tr>\n",
       "  </thead>\n",
       "  <tbody>\n",
       "    <tr>\n",
       "      <th>0</th>\n",
       "      <td>1503960366</td>\n",
       "      <td>2016-04-12</td>\n",
       "      <td>Tuesday</td>\n",
       "      <td>13162</td>\n",
       "      <td>8.50</td>\n",
       "      <td>1.88</td>\n",
       "      <td>0.55</td>\n",
       "      <td>6.06</td>\n",
       "      <td>0.0</td>\n",
       "      <td>25</td>\n",
       "      <td>13</td>\n",
       "      <td>328</td>\n",
       "      <td>728</td>\n",
       "      <td>366</td>\n",
       "      <td>1094</td>\n",
       "      <td>6.0</td>\n",
       "      <td>1985</td>\n",
       "    </tr>\n",
       "    <tr>\n",
       "      <th>1</th>\n",
       "      <td>1503960366</td>\n",
       "      <td>2016-04-13</td>\n",
       "      <td>Wednesday</td>\n",
       "      <td>10735</td>\n",
       "      <td>6.97</td>\n",
       "      <td>1.57</td>\n",
       "      <td>0.69</td>\n",
       "      <td>4.71</td>\n",
       "      <td>0.0</td>\n",
       "      <td>21</td>\n",
       "      <td>19</td>\n",
       "      <td>217</td>\n",
       "      <td>776</td>\n",
       "      <td>257</td>\n",
       "      <td>1033</td>\n",
       "      <td>4.0</td>\n",
       "      <td>1797</td>\n",
       "    </tr>\n",
       "    <tr>\n",
       "      <th>2</th>\n",
       "      <td>1503960366</td>\n",
       "      <td>2016-04-14</td>\n",
       "      <td>Thursday</td>\n",
       "      <td>10460</td>\n",
       "      <td>6.74</td>\n",
       "      <td>2.44</td>\n",
       "      <td>0.40</td>\n",
       "      <td>3.91</td>\n",
       "      <td>0.0</td>\n",
       "      <td>30</td>\n",
       "      <td>11</td>\n",
       "      <td>181</td>\n",
       "      <td>1218</td>\n",
       "      <td>222</td>\n",
       "      <td>1440</td>\n",
       "      <td>4.0</td>\n",
       "      <td>1776</td>\n",
       "    </tr>\n",
       "    <tr>\n",
       "      <th>3</th>\n",
       "      <td>1503960366</td>\n",
       "      <td>2016-04-15</td>\n",
       "      <td>Friday</td>\n",
       "      <td>9762</td>\n",
       "      <td>6.28</td>\n",
       "      <td>2.14</td>\n",
       "      <td>1.26</td>\n",
       "      <td>2.83</td>\n",
       "      <td>0.0</td>\n",
       "      <td>29</td>\n",
       "      <td>34</td>\n",
       "      <td>209</td>\n",
       "      <td>726</td>\n",
       "      <td>272</td>\n",
       "      <td>998</td>\n",
       "      <td>5.0</td>\n",
       "      <td>1745</td>\n",
       "    </tr>\n",
       "    <tr>\n",
       "      <th>4</th>\n",
       "      <td>1503960366</td>\n",
       "      <td>2016-04-16</td>\n",
       "      <td>Saturday</td>\n",
       "      <td>12669</td>\n",
       "      <td>8.16</td>\n",
       "      <td>2.71</td>\n",
       "      <td>0.41</td>\n",
       "      <td>5.04</td>\n",
       "      <td>0.0</td>\n",
       "      <td>36</td>\n",
       "      <td>10</td>\n",
       "      <td>221</td>\n",
       "      <td>773</td>\n",
       "      <td>267</td>\n",
       "      <td>1040</td>\n",
       "      <td>4.0</td>\n",
       "      <td>1863</td>\n",
       "    </tr>\n",
       "  </tbody>\n",
       "</table>\n",
       "</div>"
      ],
      "text/plain": [
       "           Id ActivityDate    weekday  TotalSteps  TotalDistance  \\\n",
       "0  1503960366   2016-04-12    Tuesday       13162           8.50   \n",
       "1  1503960366   2016-04-13  Wednesday       10735           6.97   \n",
       "2  1503960366   2016-04-14   Thursday       10460           6.74   \n",
       "3  1503960366   2016-04-15     Friday        9762           6.28   \n",
       "4  1503960366   2016-04-16   Saturday       12669           8.16   \n",
       "\n",
       "   VeryActiveDistance  ModeratelyActiveDistance  LightActiveDistance  \\\n",
       "0                1.88                      0.55                 6.06   \n",
       "1                1.57                      0.69                 4.71   \n",
       "2                2.44                      0.40                 3.91   \n",
       "3                2.14                      1.26                 2.83   \n",
       "4                2.71                      0.41                 5.04   \n",
       "\n",
       "   SedentaryActiveDistance  VeryActiveMinutes  FairlyActiveMinutes  \\\n",
       "0                      0.0                 25                   13   \n",
       "1                      0.0                 21                   19   \n",
       "2                      0.0                 30                   11   \n",
       "3                      0.0                 29                   34   \n",
       "4                      0.0                 36                   10   \n",
       "\n",
       "   LightlyActiveMinutes  SedentaryMinutes  TotalActiveMinutes  TotalMinutes  \\\n",
       "0                   328               728                 366          1094   \n",
       "1                   217               776                 257          1033   \n",
       "2                   181              1218                 222          1440   \n",
       "3                   209               726                 272           998   \n",
       "4                   221               773                 267          1040   \n",
       "\n",
       "   TotalActiveHours  Calories  \n",
       "0               6.0      1985  \n",
       "1               4.0      1797  \n",
       "2               4.0      1776  \n",
       "3               5.0      1745  \n",
       "4               4.0      1863  "
      ]
     },
     "execution_count": 35,
     "metadata": {},
     "output_type": "execute_result"
    }
   ],
   "source": [
    "daily_activity.head()\n"
   ]
  },
  {
   "cell_type": "code",
   "execution_count": null,
   "id": "2dfee075-9a60-4852-8ddd-b94c084e233f",
   "metadata": {},
   "outputs": [],
   "source": [
    "daily_activity.drop(\"ActivityDate\", axis = 1, inplace = True)"
   ]
  },
  {
   "cell_type": "markdown",
   "id": "78f39504-5d33-4993-b35b-50af3379eb4f",
   "metadata": {},
   "source": [
    "### <span style = \"color: orange\"> ANALYZE : </span>\n"
   ]
  },
  {
   "cell_type": "markdown",
   "id": "aa6c9a1e-fde8-457b-bd4f-00601fd0de99",
   "metadata": {},
   "source": [
    "Till now, we have completed most of the work related to data anaysis and we also narrowed our data in 3 dataframes.\n",
    "1. daily_activity\n",
    "2. merged_df\n",
    "3. merged_df1\n",
    "\n",
    "Now we're going to draw insights from these 3 dataframes.."
   ]
  },
  {
   "cell_type": "code",
   "execution_count": 38,
   "id": "3792ee95-cd8c-4297-9aa1-43196a95d608",
   "metadata": {},
   "outputs": [
    {
     "data": {
      "text/html": [
       "<div>\n",
       "<style scoped>\n",
       "    .dataframe tbody tr th:only-of-type {\n",
       "        vertical-align: middle;\n",
       "    }\n",
       "\n",
       "    .dataframe tbody tr th {\n",
       "        vertical-align: top;\n",
       "    }\n",
       "\n",
       "    .dataframe thead th {\n",
       "        text-align: right;\n",
       "    }\n",
       "</style>\n",
       "<table border=\"1\" class=\"dataframe\">\n",
       "  <thead>\n",
       "    <tr style=\"text-align: right;\">\n",
       "      <th></th>\n",
       "      <th>Id</th>\n",
       "      <th>TotalSteps</th>\n",
       "      <th>TotalDistance</th>\n",
       "      <th>VeryActiveDistance</th>\n",
       "      <th>ModeratelyActiveDistance</th>\n",
       "      <th>LightActiveDistance</th>\n",
       "      <th>SedentaryActiveDistance</th>\n",
       "      <th>VeryActiveMinutes</th>\n",
       "      <th>FairlyActiveMinutes</th>\n",
       "      <th>LightlyActiveMinutes</th>\n",
       "      <th>SedentaryMinutes</th>\n",
       "      <th>TotalActiveMinutes</th>\n",
       "      <th>TotalMinutes</th>\n",
       "      <th>TotalActiveHours</th>\n",
       "      <th>Calories</th>\n",
       "    </tr>\n",
       "  </thead>\n",
       "  <tbody>\n",
       "    <tr>\n",
       "      <th>count</th>\n",
       "      <td>9.400000e+02</td>\n",
       "      <td>940.000000</td>\n",
       "      <td>940.000000</td>\n",
       "      <td>940.000000</td>\n",
       "      <td>940.000000</td>\n",
       "      <td>940.000000</td>\n",
       "      <td>940.000000</td>\n",
       "      <td>940.000000</td>\n",
       "      <td>940.000000</td>\n",
       "      <td>940.000000</td>\n",
       "      <td>940.000000</td>\n",
       "      <td>940.000000</td>\n",
       "      <td>940.000000</td>\n",
       "      <td>940.000000</td>\n",
       "      <td>940.000000</td>\n",
       "    </tr>\n",
       "    <tr>\n",
       "      <th>mean</th>\n",
       "      <td>4.855407e+09</td>\n",
       "      <td>7637.910638</td>\n",
       "      <td>5.489702</td>\n",
       "      <td>1.502681</td>\n",
       "      <td>0.567543</td>\n",
       "      <td>3.340819</td>\n",
       "      <td>0.001606</td>\n",
       "      <td>21.164894</td>\n",
       "      <td>13.564894</td>\n",
       "      <td>192.812766</td>\n",
       "      <td>991.210638</td>\n",
       "      <td>227.542553</td>\n",
       "      <td>1218.753191</td>\n",
       "      <td>3.775532</td>\n",
       "      <td>2303.609574</td>\n",
       "    </tr>\n",
       "    <tr>\n",
       "      <th>std</th>\n",
       "      <td>2.424805e+09</td>\n",
       "      <td>5087.150742</td>\n",
       "      <td>3.924606</td>\n",
       "      <td>2.658941</td>\n",
       "      <td>0.883580</td>\n",
       "      <td>2.040655</td>\n",
       "      <td>0.007346</td>\n",
       "      <td>32.844803</td>\n",
       "      <td>19.987404</td>\n",
       "      <td>109.174700</td>\n",
       "      <td>301.267437</td>\n",
       "      <td>121.776307</td>\n",
       "      <td>265.931767</td>\n",
       "      <td>2.057646</td>\n",
       "      <td>718.166862</td>\n",
       "    </tr>\n",
       "    <tr>\n",
       "      <th>min</th>\n",
       "      <td>1.503960e+09</td>\n",
       "      <td>0.000000</td>\n",
       "      <td>0.000000</td>\n",
       "      <td>0.000000</td>\n",
       "      <td>0.000000</td>\n",
       "      <td>0.000000</td>\n",
       "      <td>0.000000</td>\n",
       "      <td>0.000000</td>\n",
       "      <td>0.000000</td>\n",
       "      <td>0.000000</td>\n",
       "      <td>0.000000</td>\n",
       "      <td>0.000000</td>\n",
       "      <td>2.000000</td>\n",
       "      <td>0.000000</td>\n",
       "      <td>0.000000</td>\n",
       "    </tr>\n",
       "    <tr>\n",
       "      <th>25%</th>\n",
       "      <td>2.320127e+09</td>\n",
       "      <td>3789.750000</td>\n",
       "      <td>2.620000</td>\n",
       "      <td>0.000000</td>\n",
       "      <td>0.000000</td>\n",
       "      <td>1.945000</td>\n",
       "      <td>0.000000</td>\n",
       "      <td>0.000000</td>\n",
       "      <td>0.000000</td>\n",
       "      <td>127.000000</td>\n",
       "      <td>729.750000</td>\n",
       "      <td>146.750000</td>\n",
       "      <td>989.750000</td>\n",
       "      <td>2.000000</td>\n",
       "      <td>1828.500000</td>\n",
       "    </tr>\n",
       "    <tr>\n",
       "      <th>50%</th>\n",
       "      <td>4.445115e+09</td>\n",
       "      <td>7405.500000</td>\n",
       "      <td>5.245000</td>\n",
       "      <td>0.210000</td>\n",
       "      <td>0.240000</td>\n",
       "      <td>3.365000</td>\n",
       "      <td>0.000000</td>\n",
       "      <td>4.000000</td>\n",
       "      <td>6.000000</td>\n",
       "      <td>199.000000</td>\n",
       "      <td>1057.500000</td>\n",
       "      <td>247.000000</td>\n",
       "      <td>1440.000000</td>\n",
       "      <td>4.000000</td>\n",
       "      <td>2134.000000</td>\n",
       "    </tr>\n",
       "    <tr>\n",
       "      <th>75%</th>\n",
       "      <td>6.962181e+09</td>\n",
       "      <td>10727.000000</td>\n",
       "      <td>7.712500</td>\n",
       "      <td>2.052500</td>\n",
       "      <td>0.800000</td>\n",
       "      <td>4.782500</td>\n",
       "      <td>0.000000</td>\n",
       "      <td>32.000000</td>\n",
       "      <td>19.000000</td>\n",
       "      <td>264.000000</td>\n",
       "      <td>1229.500000</td>\n",
       "      <td>317.250000</td>\n",
       "      <td>1440.000000</td>\n",
       "      <td>5.000000</td>\n",
       "      <td>2793.250000</td>\n",
       "    </tr>\n",
       "    <tr>\n",
       "      <th>max</th>\n",
       "      <td>8.877689e+09</td>\n",
       "      <td>36019.000000</td>\n",
       "      <td>28.030001</td>\n",
       "      <td>21.920000</td>\n",
       "      <td>6.480000</td>\n",
       "      <td>10.710000</td>\n",
       "      <td>0.110000</td>\n",
       "      <td>210.000000</td>\n",
       "      <td>143.000000</td>\n",
       "      <td>518.000000</td>\n",
       "      <td>1440.000000</td>\n",
       "      <td>552.000000</td>\n",
       "      <td>1440.000000</td>\n",
       "      <td>9.000000</td>\n",
       "      <td>4900.000000</td>\n",
       "    </tr>\n",
       "  </tbody>\n",
       "</table>\n",
       "</div>"
      ],
      "text/plain": [
       "                 Id    TotalSteps  TotalDistance  VeryActiveDistance  \\\n",
       "count  9.400000e+02    940.000000     940.000000          940.000000   \n",
       "mean   4.855407e+09   7637.910638       5.489702            1.502681   \n",
       "std    2.424805e+09   5087.150742       3.924606            2.658941   \n",
       "min    1.503960e+09      0.000000       0.000000            0.000000   \n",
       "25%    2.320127e+09   3789.750000       2.620000            0.000000   \n",
       "50%    4.445115e+09   7405.500000       5.245000            0.210000   \n",
       "75%    6.962181e+09  10727.000000       7.712500            2.052500   \n",
       "max    8.877689e+09  36019.000000      28.030001           21.920000   \n",
       "\n",
       "       ModeratelyActiveDistance  LightActiveDistance  SedentaryActiveDistance  \\\n",
       "count                940.000000           940.000000               940.000000   \n",
       "mean                   0.567543             3.340819                 0.001606   \n",
       "std                    0.883580             2.040655                 0.007346   \n",
       "min                    0.000000             0.000000                 0.000000   \n",
       "25%                    0.000000             1.945000                 0.000000   \n",
       "50%                    0.240000             3.365000                 0.000000   \n",
       "75%                    0.800000             4.782500                 0.000000   \n",
       "max                    6.480000            10.710000                 0.110000   \n",
       "\n",
       "       VeryActiveMinutes  FairlyActiveMinutes  LightlyActiveMinutes  \\\n",
       "count         940.000000           940.000000            940.000000   \n",
       "mean           21.164894            13.564894            192.812766   \n",
       "std            32.844803            19.987404            109.174700   \n",
       "min             0.000000             0.000000              0.000000   \n",
       "25%             0.000000             0.000000            127.000000   \n",
       "50%             4.000000             6.000000            199.000000   \n",
       "75%            32.000000            19.000000            264.000000   \n",
       "max           210.000000           143.000000            518.000000   \n",
       "\n",
       "       SedentaryMinutes  TotalActiveMinutes  TotalMinutes  TotalActiveHours  \\\n",
       "count        940.000000          940.000000    940.000000        940.000000   \n",
       "mean         991.210638          227.542553   1218.753191          3.775532   \n",
       "std          301.267437          121.776307    265.931767          2.057646   \n",
       "min            0.000000            0.000000      2.000000          0.000000   \n",
       "25%          729.750000          146.750000    989.750000          2.000000   \n",
       "50%         1057.500000          247.000000   1440.000000          4.000000   \n",
       "75%         1229.500000          317.250000   1440.000000          5.000000   \n",
       "max         1440.000000          552.000000   1440.000000          9.000000   \n",
       "\n",
       "          Calories  \n",
       "count   940.000000  \n",
       "mean   2303.609574  \n",
       "std     718.166862  \n",
       "min       0.000000  \n",
       "25%    1828.500000  \n",
       "50%    2134.000000  \n",
       "75%    2793.250000  \n",
       "max    4900.000000  "
      ]
     },
     "execution_count": 38,
     "metadata": {},
     "output_type": "execute_result"
    }
   ],
   "source": [
    "daily_activity.describe()\n"
   ]
  },
  {
   "cell_type": "code",
   "execution_count": 33,
   "id": "435907c7-ad5b-47f6-86c9-4e87adddd857",
   "metadata": {},
   "outputs": [
    {
     "data": {
      "text/html": [
       "<div>\n",
       "<style scoped>\n",
       "    .dataframe tbody tr th:only-of-type {\n",
       "        vertical-align: middle;\n",
       "    }\n",
       "\n",
       "    .dataframe tbody tr th {\n",
       "        vertical-align: top;\n",
       "    }\n",
       "\n",
       "    .dataframe thead th {\n",
       "        text-align: right;\n",
       "    }\n",
       "</style>\n",
       "<table border=\"1\" class=\"dataframe\">\n",
       "  <thead>\n",
       "    <tr style=\"text-align: right;\">\n",
       "      <th></th>\n",
       "      <th>Id</th>\n",
       "      <th>ActivityHour</th>\n",
       "      <th>StepTotal</th>\n",
       "      <th>Calories</th>\n",
       "    </tr>\n",
       "  </thead>\n",
       "  <tbody>\n",
       "    <tr>\n",
       "      <th>count</th>\n",
       "      <td>2.209900e+04</td>\n",
       "      <td>22099</td>\n",
       "      <td>22099.000000</td>\n",
       "      <td>22099.000000</td>\n",
       "    </tr>\n",
       "    <tr>\n",
       "      <th>mean</th>\n",
       "      <td>4.848235e+09</td>\n",
       "      <td>2016-04-26 11:46:42.588352512</td>\n",
       "      <td>320.166342</td>\n",
       "      <td>97.386760</td>\n",
       "    </tr>\n",
       "    <tr>\n",
       "      <th>min</th>\n",
       "      <td>1.503960e+09</td>\n",
       "      <td>2016-04-12 00:00:00</td>\n",
       "      <td>0.000000</td>\n",
       "      <td>42.000000</td>\n",
       "    </tr>\n",
       "    <tr>\n",
       "      <th>25%</th>\n",
       "      <td>2.320127e+09</td>\n",
       "      <td>2016-04-19 01:00:00</td>\n",
       "      <td>0.000000</td>\n",
       "      <td>63.000000</td>\n",
       "    </tr>\n",
       "    <tr>\n",
       "      <th>50%</th>\n",
       "      <td>4.445115e+09</td>\n",
       "      <td>2016-04-26 06:00:00</td>\n",
       "      <td>40.000000</td>\n",
       "      <td>83.000000</td>\n",
       "    </tr>\n",
       "    <tr>\n",
       "      <th>75%</th>\n",
       "      <td>6.962181e+09</td>\n",
       "      <td>2016-05-03 19:00:00</td>\n",
       "      <td>357.000000</td>\n",
       "      <td>108.000000</td>\n",
       "    </tr>\n",
       "    <tr>\n",
       "      <th>max</th>\n",
       "      <td>8.877689e+09</td>\n",
       "      <td>2016-05-12 15:00:00</td>\n",
       "      <td>10554.000000</td>\n",
       "      <td>948.000000</td>\n",
       "    </tr>\n",
       "    <tr>\n",
       "      <th>std</th>\n",
       "      <td>2.422500e+09</td>\n",
       "      <td>NaN</td>\n",
       "      <td>690.384228</td>\n",
       "      <td>60.702622</td>\n",
       "    </tr>\n",
       "  </tbody>\n",
       "</table>\n",
       "</div>"
      ],
      "text/plain": [
       "                 Id                   ActivityHour     StepTotal      Calories\n",
       "count  2.209900e+04                          22099  22099.000000  22099.000000\n",
       "mean   4.848235e+09  2016-04-26 11:46:42.588352512    320.166342     97.386760\n",
       "min    1.503960e+09            2016-04-12 00:00:00      0.000000     42.000000\n",
       "25%    2.320127e+09            2016-04-19 01:00:00      0.000000     63.000000\n",
       "50%    4.445115e+09            2016-04-26 06:00:00     40.000000     83.000000\n",
       "75%    6.962181e+09            2016-05-03 19:00:00    357.000000    108.000000\n",
       "max    8.877689e+09            2016-05-12 15:00:00  10554.000000    948.000000\n",
       "std    2.422500e+09                            NaN    690.384228     60.702622"
      ]
     },
     "execution_count": 33,
     "metadata": {},
     "output_type": "execute_result"
    }
   ],
   "source": [
    "merged_df.describe()"
   ]
  },
  {
   "cell_type": "code",
   "execution_count": 76,
   "id": "44ef1e55-3df4-4f62-9b41-1267ddf1585e",
   "metadata": {},
   "outputs": [
    {
     "data": {
      "text/html": [
       "<div>\n",
       "<style scoped>\n",
       "    .dataframe tbody tr th:only-of-type {\n",
       "        vertical-align: middle;\n",
       "    }\n",
       "\n",
       "    .dataframe tbody tr th {\n",
       "        vertical-align: top;\n",
       "    }\n",
       "\n",
       "    .dataframe thead th {\n",
       "        text-align: right;\n",
       "    }\n",
       "</style>\n",
       "<table border=\"1\" class=\"dataframe\">\n",
       "  <thead>\n",
       "    <tr style=\"text-align: right;\">\n",
       "      <th></th>\n",
       "      <th>Id</th>\n",
       "      <th>StepTotal</th>\n",
       "      <th>Calories</th>\n",
       "      <th>DateHour</th>\n",
       "      <th>TotalSleepRecords</th>\n",
       "      <th>TotalMinutesAsleep</th>\n",
       "      <th>TotalTimeInBed</th>\n",
       "    </tr>\n",
       "  </thead>\n",
       "  <tbody>\n",
       "    <tr>\n",
       "      <th>count</th>\n",
       "      <td>9.771000e+03</td>\n",
       "      <td>9771.000000</td>\n",
       "      <td>9771.000000</td>\n",
       "      <td>9771.000000</td>\n",
       "      <td>9771.000000</td>\n",
       "      <td>9771.000000</td>\n",
       "      <td>9771.000000</td>\n",
       "    </tr>\n",
       "    <tr>\n",
       "      <th>mean</th>\n",
       "      <td>5.000942e+09</td>\n",
       "      <td>358.765838</td>\n",
       "      <td>100.978917</td>\n",
       "      <td>11.422884</td>\n",
       "      <td>1.120356</td>\n",
       "      <td>419.350322</td>\n",
       "      <td>458.607921</td>\n",
       "    </tr>\n",
       "    <tr>\n",
       "      <th>std</th>\n",
       "      <td>2.061194e+09</td>\n",
       "      <td>652.628865</td>\n",
       "      <td>63.440338</td>\n",
       "      <td>6.921320</td>\n",
       "      <td>0.347304</td>\n",
       "      <td>118.789342</td>\n",
       "      <td>127.597596</td>\n",
       "    </tr>\n",
       "    <tr>\n",
       "      <th>min</th>\n",
       "      <td>1.503960e+09</td>\n",
       "      <td>0.000000</td>\n",
       "      <td>42.000000</td>\n",
       "      <td>0.000000</td>\n",
       "      <td>1.000000</td>\n",
       "      <td>58.000000</td>\n",
       "      <td>61.000000</td>\n",
       "    </tr>\n",
       "    <tr>\n",
       "      <th>25%</th>\n",
       "      <td>3.977334e+09</td>\n",
       "      <td>0.000000</td>\n",
       "      <td>63.000000</td>\n",
       "      <td>5.000000</td>\n",
       "      <td>1.000000</td>\n",
       "      <td>361.000000</td>\n",
       "      <td>402.000000</td>\n",
       "    </tr>\n",
       "    <tr>\n",
       "      <th>50%</th>\n",
       "      <td>4.702922e+09</td>\n",
       "      <td>107.000000</td>\n",
       "      <td>84.000000</td>\n",
       "      <td>11.000000</td>\n",
       "      <td>1.000000</td>\n",
       "      <td>433.000000</td>\n",
       "      <td>463.000000</td>\n",
       "    </tr>\n",
       "    <tr>\n",
       "      <th>75%</th>\n",
       "      <td>6.962181e+09</td>\n",
       "      <td>420.000000</td>\n",
       "      <td>117.000000</td>\n",
       "      <td>17.000000</td>\n",
       "      <td>1.000000</td>\n",
       "      <td>490.000000</td>\n",
       "      <td>527.000000</td>\n",
       "    </tr>\n",
       "    <tr>\n",
       "      <th>max</th>\n",
       "      <td>8.792010e+09</td>\n",
       "      <td>6357.000000</td>\n",
       "      <td>669.000000</td>\n",
       "      <td>23.000000</td>\n",
       "      <td>3.000000</td>\n",
       "      <td>796.000000</td>\n",
       "      <td>961.000000</td>\n",
       "    </tr>\n",
       "  </tbody>\n",
       "</table>\n",
       "</div>"
      ],
      "text/plain": [
       "                 Id    StepTotal     Calories     DateHour  TotalSleepRecords  \\\n",
       "count  9.771000e+03  9771.000000  9771.000000  9771.000000        9771.000000   \n",
       "mean   5.000942e+09   358.765838   100.978917    11.422884           1.120356   \n",
       "std    2.061194e+09   652.628865    63.440338     6.921320           0.347304   \n",
       "min    1.503960e+09     0.000000    42.000000     0.000000           1.000000   \n",
       "25%    3.977334e+09     0.000000    63.000000     5.000000           1.000000   \n",
       "50%    4.702922e+09   107.000000    84.000000    11.000000           1.000000   \n",
       "75%    6.962181e+09   420.000000   117.000000    17.000000           1.000000   \n",
       "max    8.792010e+09  6357.000000   669.000000    23.000000           3.000000   \n",
       "\n",
       "       TotalMinutesAsleep  TotalTimeInBed  \n",
       "count         9771.000000     9771.000000  \n",
       "mean           419.350322      458.607921  \n",
       "std            118.789342      127.597596  \n",
       "min             58.000000       61.000000  \n",
       "25%            361.000000      402.000000  \n",
       "50%            433.000000      463.000000  \n",
       "75%            490.000000      527.000000  \n",
       "max            796.000000      961.000000  "
      ]
     },
     "execution_count": 76,
     "metadata": {},
     "output_type": "execute_result"
    }
   ],
   "source": [
    "merged_df1.describe()\n"
   ]
  },
  {
   "cell_type": "markdown",
   "id": "f46c243a-6d4e-4a34-bdd3-2e56850e432d",
   "metadata": {},
   "source": [
    "#### <span style = \"color: orange\"> Some key findings : </span>\n",
    "1. From daily_activity we can see that there is an average of 1219(approx.) TotalMinutes but only 228(approx.) TotalActiveMinutes that means 991(approx.) are sedentaryMinutes.\n",
    "2. It is also clear that 7638 of TotalSteps were taken by the users daily.\n",
    "3. An average of 2304 calories burnt can be measured from above data.\n",
    "4. It is clear that there is correlation between calories, totalSteps, etc.\n"
   ]
  },
  {
   "cell_type": "markdown",
   "id": "105784e8-9319-4d82-ad8b-fbbe6db2e2de",
   "metadata": {},
   "source": [
    "## <span style = \"color: orange\"> SHARE : </span>\n"
   ]
  },
  {
   "cell_type": "markdown",
   "id": "5186df34-ae04-4dac-988f-63a038f28b8c",
   "metadata": {},
   "source": [
    "Let's see what is the correlation between different data like totalsteps and calories, etc.\n",
    "#### <span style = \"color: orange\"> Correlation Matrix : </span>\n"
   ]
  },
  {
   "cell_type": "code",
   "execution_count": 39,
   "id": "60338b2a-e200-43a7-b089-a49fa29d1dce",
   "metadata": {},
   "outputs": [
    {
     "data": {
      "image/png": "[encoded data removed]",
      "text/plain": [
       "<Figure size 1000x600 with 2 Axes>"
      ]
     },
     "metadata": {},
     "output_type": "display_data"
    }
   ],
   "source": [
    "Corr1 = [\"TotalDistance\", \"TotalSteps\", \n",
    "         \"SedentaryMinutes\", \"TotalActiveMinutes\", \"Calories\"]\n",
    "\n",
    "fig, viz = plt.subplots(figsize=(10, 6))\n",
    "viz = sns.heatmap(daily_activity[Corr1].corr(), \n",
    "            annot = True, \n",
    "                  \n",
    "            fmt = \".2f\",\n",
    "            linewidths=0.5,\n",
    "            cmap=\"coolwarm\")\n",
    "\n",
    "viz.set_title('Correlation Matrix');\n"
   ]
  },
  {
   "cell_type": "markdown",
   "id": "727b1d10-3756-4ee9-ac90-3d177f540f63",
   "metadata": {},
   "source": [
    "From the above visualization we can see that there is a positive correlation between `Calories` and `(TotalActiveMinutes, TotalSteps and TotalDistance)`\n",
    "whereas negative correlation between `Calories` and `SedentaryMinutes`.\n",
    "\n",
    "#### <span style = \"color: orange\"> Calories, TotalSteps and SedentaryMinute Comparison : </span>\n",
    "\n"
   ]
  },
  {
   "cell_type": "code",
   "execution_count": 29,
   "id": "9b65f0c7-7875-4d25-adf1-b8a23face6eb",
   "metadata": {},
   "outputs": [
    {
     "data": {
      "image/png": "[encoded data removed]",
      "text/plain": [
       "<Figure size 800x500 with 2 Axes>"
      ]
     },
     "metadata": {},
     "output_type": "display_data"
    }
   ],
   "source": [
    "fig, (viz1, viz2) = plt.subplots(nrows=2,\n",
    "                             ncols=1,\n",
    "                             figsize=(8, 5),\n",
    "                               sharex=True)\n",
    "\n",
    "scatter = viz1.scatter(x=daily_activity[\"Calories\"],\n",
    "                     y=daily_activity[\"TotalSteps\"],\n",
    "                     color=\"orange\")\n",
    "viz1.set(title=\"Calories Burnt By Total Steps\",\n",
    "       ylabel=\"Total Steps\")\n",
    "\n",
    "viz1.legend(*scatter.legend_elements(), title=None)\n",
    "\n",
    "scatter = viz2.scatter(x=daily_activity[\"Calories\"],\n",
    "                     y=daily_activity[\"SedentaryMinutes\"],\n",
    "                     color=\"orange\")\n",
    "viz2.set(title=\"Sedentary Minutes and Calories\",\n",
    "       ylabel=\"Sedentary Minutes\")\n",
    "\n",
    "viz2.legend(*scatter.legend_elements(), title=None);\n",
    "\n",
    "\n",
    "\n",
    "\n"
   ]
  },
  {
   "cell_type": "markdown",
   "id": "9d6536c7-9df8-4c31-846b-118f57f2bd74",
   "metadata": {},
   "source": [
    "1. Here we have a clear picture that increase in TotalSteps direct affect increae in Calories burnt.\n",
    "2. The second visualization shows, As the Sedentary Minutes increases burning of Calories decreases."
   ]
  },
  {
   "cell_type": "markdown",
   "id": "4c2a23cd-e49b-4042-8dd7-d84c495daa60",
   "metadata": {},
   "source": [
    "#### <span style = \"color: orange\"> Total Calories Burnt By Day Of The Week: </span>"
   ]
  },
  {
   "cell_type": "code",
   "execution_count": 37,
   "id": "2a9b661a-f92e-48d9-9211-be29dfb7af4b",
   "metadata": {},
   "outputs": [
    {
     "data": {
      "image/png": "[encoded data removed]",
      "text/plain": [
       "<Figure size 800x500 with 1 Axes>"
      ]
     },
     "metadata": {},
     "output_type": "display_data"
    }
   ],
   "source": [
    "fig, viz = plt.subplots(figsize=(8,5))\n",
    "plt.bar(merged_df.weekday, merged_df.Calories, color = \"orange\")\n",
    "plt.xlabel(\"Week Day\")\n",
    "plt.ylabel(\"Calories Burned\")\n",
    "plt.title(\"Calories Burned by Day of the Week\")\n",
    "plt.grid()\n",
    "\n",
    "plt.show()"
   ]
  },
  {
   "cell_type": "markdown",
   "id": "0b92b6c4-df7e-427e-b3ba-b35830e01737",
   "metadata": {},
   "source": [
    "From the above viz. we can see that most of the Calories were burnt on Saturday and least of the Calories were burnt on monday. The reason may differ like monday can be a busiest day that cause less Calories burnt."
   ]
  },
  {
   "cell_type": "markdown",
   "id": "78ab7afd-2c2f-47ec-9715-d89df8f9f19a",
   "metadata": {},
   "source": [
    "#### <span style = \"color: orange\"> Sedentary Minutes VS Total Active Minutes: </span>\n"
   ]
  },
  {
   "cell_type": "code",
   "execution_count": 52,
   "id": "3cd721e8-24a2-4f20-b291-925bc40635b8",
   "metadata": {},
   "outputs": [
    {
     "data": {
      "image/png": "[encoded data removed]",
      "text/plain": [
       "<Figure size 800x300 with 1 Axes>"
      ]
     },
     "metadata": {},
     "output_type": "display_data"
    }
   ],
   "source": [
    "fig, viz = plt.subplots(figsize = (8,3))\n",
    "x = np.array([\"SedentaryMinutes\", \"TotalActiveMinutes\"])\n",
    "y = np.array([daily_activity[\"SedentaryMinutes\"].mean(),\n",
    "             daily_activity[\"TotalActiveMinutes\"].mean()])\n",
    "plt.barh(x, y, height = 0.4, color = 'orange')\n",
    "plt.title(\"Sedentary Minutes VS Total Active Minutes\")\n",
    "plt.show()\n",
    "                      "
   ]
  },
  {
   "cell_type": "markdown",
   "id": "eee17c3a-6bac-4c7e-93c8-b33b49bec524",
   "metadata": {},
   "source": [
    "#### <span style = \"color: orange\"> Total Steps Count Weekday Wise: </span>"
   ]
  },
  {
   "cell_type": "code",
   "execution_count": 42,
   "id": "a0c6bb13-c540-4dc8-8fbb-b818a168d7a5",
   "metadata": {},
   "outputs": [
    {
     "data": {
      "image/png": "[encoded data removed]",
      "text/plain": [
       "<Figure size 1000x500 with 1 Axes>"
      ]
     },
     "metadata": {},
     "output_type": "display_data"
    }
   ],
   "source": [
    "fig, viz = plt.subplots(figsize=(10,5))\n",
    "plt.bar(daily_activity.weekday, daily_activity.TotalSteps, \n",
    "        color = \"orange\")\n",
    "plt.xlabel(\"Week Day\")\n",
    "plt.ylabel(\"Total Steps count\")\n",
    "plt.title(\"Total Steps Taken by Day of the Week\")\n",
    "plt.show()"
   ]
  },
  {
   "cell_type": "markdown",
   "id": "6656f728-cd14-4f12-a1c6-532b927a77fe",
   "metadata": {},
   "source": [
    "Here Sunday is the highly effective day in terms of totalSteps count and the reason behind this, is the availability of enough time for walking, exercise on sunday."
   ]
  },
  {
   "cell_type": "markdown",
   "id": "ccb3bb59-ef4f-472d-aaf5-e26e656d4459",
   "metadata": {},
   "source": [
    "#### <span style = \"color: orange\"> Total Sleep time by weekdays: </span>"
   ]
  },
  {
   "cell_type": "code",
   "execution_count": 62,
   "id": "33faec27-bed8-40f6-a96d-7f66f3f2f6ce",
   "metadata": {},
   "outputs": [
    {
     "data": {
      "image/png": "[encoded data removed]",
      "text/plain": [
       "<Figure size 800x500 with 1 Axes>"
      ]
     },
     "metadata": {},
     "output_type": "display_data"
    }
   ],
   "source": [
    "fig, viz = plt.subplots(figsize = (8,5))\n",
    "x = merged_df1[\"weekday\"]\n",
    "y = merged_df1[\"TotalMinutesAsleep\"]\n",
    "plt.bar(x,y, width = 0.4, color = \"orange\")\n",
    "plt.title(\"Total Minutes Sleep by weekDays\")\n",
    "plt.grid()\n",
    "plt.show()"
   ]
  },
  {
   "cell_type": "markdown",
   "id": "a198026c-1fea-46f2-8832-ed4ff0d7d65f",
   "metadata": {},
   "source": [
    "1. There is a direct connection between Calories burnt and sleep time because on sunday, saturday, and tuesday there is less sleep time and most of the calories were burnt on these days.\n",
    "2. On monday there is a high sleeptime because most of the users are exhausted this day."
   ]
  },
  {
   "cell_type": "markdown",
   "id": "af38e718-a872-4957-a9f3-7ca9de1bf291",
   "metadata": {},
   "source": [
    "#### <span style = \"color: orange\"> The Most and least active hours of day : </span>"
   ]
  },
  {
   "cell_type": "code",
   "execution_count": 22,
   "id": "15a0dc2e-cee4-498c-a0b9-24e4fcc0425a",
   "metadata": {},
   "outputs": [
    {
     "data": {
      "image/png": "[encoded data removed]",
      "text/plain": [
       "<Figure size 1000x600 with 1 Axes>"
      ]
     },
     "metadata": {},
     "output_type": "display_data"
    }
   ],
   "source": [
    "fig, viz = plt.subplots(figsize=(10, 6))\n",
    "merged_df.groupby(merged_df['DateHour'])['StepTotal'].mean().plot(kind='bar', rot=0, ax=axs, color='orange', title='The Most and Least Active Hours of The Day')\n",
    "plt.xlabel(\"Hour of the Day\")\n",
    "plt.ylabel(\"Total Steps\")\n",
    "plt.show()"
   ]
  },
  {
   "cell_type": "markdown",
   "id": "65e39684-f3d7-4672-8aa4-dd001cd08cc0",
   "metadata": {},
   "source": [
    "## <span style = \"color: orange\"> Recommendations  : </span>"
   ]
  },
  {
   "cell_type": "markdown",
   "id": "76c7b9b0-ba23-43e5-aba7-bb5806317a8d",
   "metadata": {},
   "source": [
    "1. To optimize promotions, Bellabeat can target `advertising between 8 and 10 p.m`., when users are typically less active, by using ad scheduling on platforms like Google AdWords. This approach will maximize ad effectiveness and reduce costs.\n",
    "\n",
    "2. For retention, Bellabeat should focus on providing valuable, personalized content to encourage long-term engagement. Studies show a strong link between physical activity, like daily steps, and calories burned, yet many users struggle to reach 10,000 steps a day. Bellabeat could help users meet their goals by offering tips, periodic updates, and engaging challenges on its website. Additionally, to combat the health risks of inactivity, Bellabeat could produce educational videos and blogs on the importance of staying active. This content can also promote Bellabeat’s products, such as the Bellabeat app and Time, which help users track and improve their health and wellness."
   ]
  },
  {
   "cell_type": "code",
   "execution_count": null,
   "id": "fd12aef3-f9b9-43dd-861a-18034110061f",
   "metadata": {},
   "outputs": [],
   "source": []
  }
 ],
 "metadata": {
  "kernelspec": {
   "display_name": "Python 3 (ipykernel)",
   "language": "python",
   "name": "python3"
  },
  "language_info": {
   "codemirror_mode": {
    "name": "ipython",
    "version": 3
   },
   "file_extension": ".py",
   "mimetype": "text/x-python",
   "name": "python",
   "nbconvert_exporter": "python",
   "pygments_lexer": "ipython3",
   "version": "3.11.7"
  }
 },
 "nbformat": 4,
 "nbformat_minor": 5
}
